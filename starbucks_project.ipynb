{
 "cells": [
  {
   "cell_type": "markdown",
   "metadata": {},
   "source": [
    "# Starbucks dataset\n",
    "\n",
    "### Introduction\n",
    "\n",
    "This data set contains simulated data that mimics customer behavior on the Starbucks rewards mobile app. Once every few days, Starbucks sends out an offer to users of the mobile app. An offer can be merely an advertisement for a drink or an actual offer such as a discount or BOGO (buy one get one free). Some users might not receive any offer during certain weeks. \n",
    "\n",
    "This data set is a simplified version of the real Starbucks app because the underlying simulator only has one product whereas Starbucks actually sells dozens of products.\n",
    "\n",
    "Every offer has a validity period before the offer expires. As an example, a BOGO offer might be valid for only 5 days. You'll see in the data set that informational offers have a validity period even though these ads are merely providing information about a product; for example, if an informational offer has 7 days of validity, you can assume the customer is feeling the influence of the offer for 7 days after receiving the advertisement.\n",
    "\n",
    "### Example\n",
    "\n",
    "To give an example, a user could receive a discount offer buy 10 dollars get 2 off on Monday. The offer is valid for 10 days from receipt. If the customer accumulates at least 10 dollars in purchases during the validity period, the customer completes the offer.\n",
    "\n",
    "However, there are a few things to watch out for in this data set. Customers do not opt into the offers that they receive; in other words, a user can receive an offer, never actually view the offer, and still complete the offer. For example, a user might receive the \"buy 10 dollars get 2 dollars off offer\", but the user never opens the offer during the 10 day validity period. The customer spends 15 dollars during those ten days. There will be an offer completion record in the data set; however, the customer was not influenced by the offer because the customer never viewed the offer."
   ]
  },
  {
   "cell_type": "markdown",
   "metadata": {},
   "source": [
    "# Objective: Predicts whether or not someone will respond to an offer."
   ]
  },
  {
   "cell_type": "markdown",
   "metadata": {},
   "source": [
    "# Data Sets\n",
    "\n",
    "The data is contained in three files:\n",
    "\n",
    "* portfolio.json - containing offer ids and meta data about each offer (duration, type, etc.)\n",
    "* profile.json - demographic data for each customer\n",
    "* transcript.json - records for transactions, offers received, offers viewed, and offers completed\n",
    "\n",
    "Here is the schema and explanation of each variable in the files:\n",
    "\n",
    "**portfolio.json**\n",
    "* id (string) - offer id\n",
    "* offer_type (string) - type of offer ie BOGO, discount, informational\n",
    "* difficulty (int) - minimum required spend to complete an offer\n",
    "* reward (int) - reward given for completing an offer\n",
    "* duration (int) - time for offer to be open, in days\n",
    "* channels (list of strings)\n",
    "\n",
    "**profile.json**\n",
    "* age (int) - age of the customer \n",
    "* became_member_on (int) - date when customer created an app account\n",
    "* gender (str) - gender of the customer (note some entries contain 'O' for other rather than M or F)\n",
    "* id (str) - customer id\n",
    "* income (float) - customer's income\n",
    "\n",
    "**transcript.json**\n",
    "* event (str) - record description (ie transaction, offer received, offer viewed, etc.)\n",
    "* person (str) - customer id\n",
    "* time (int) - time in hours since start of test. The data begins at time t=0\n",
    "* value - (dict of strings) - either an offer id or transaction amount depending on the record\n",
    "\n",
    "**Note:** You may need to go to the terminal and run the command `conda update pandas` before reading in the files. This is because of the version of pandas of some workspace cannot read in the transcript.json file correctly, but the newest version of pandas can."
   ]
  },
  {
   "cell_type": "markdown",
   "metadata": {},
   "source": [
    "# Import The libraries"
   ]
  },
  {
   "cell_type": "code",
   "execution_count": 1,
   "metadata": {},
   "outputs": [],
   "source": [
    "# Set jupyter notebook coding container to fit border of each web browser side \n",
    "from IPython.core.display import display, HTML\n",
    "display(HTML(\"<style>.container { width:100% !important; }</style>\"))"
   ]
  },
  {
   "cell_type": "code",
   "execution_count": 3,
   "metadata": {},
   "outputs": [],
   "source": [
    "import pandas as pd\n",
    "import numpy as np\n",
    "import math\n",
    "import json\n",
    "import time\n",
    "\n",
    "import matplotlib.pyplot as plt\n",
    "import seaborn as sns\n",
    "from scipy import stats\n",
    "# don't need to call plt.show() when ploting a graph\n",
    "%matplotlib inline \n",
    "sns.set()"
   ]
  },
  {
   "cell_type": "code",
   "execution_count": 4,
   "metadata": {},
   "outputs": [],
   "source": [
    "# Pipeline and GridSearch\n",
    "from sklearn.pipeline import Pipeline, FeatureUnion\n",
    "from sklearn.model_selection import GridSearchCV\n",
    "from sklearn.model_selection import RandomizedSearchCV\n",
    "\n",
    "# Hyperparameters\n",
    "from sklearn.model_selection import cross_val_score\n",
    "\n",
    "# Outliers\n",
    "from sklearn.ensemble import IsolationForest\n",
    "\n",
    "\n",
    "# Data Preparations\n",
    "from sklearn.model_selection import train_test_split\n",
    "from sklearn.preprocessing import StandardScaler\n",
    "#from sklearn.preprocessing import MinMaxScaler\n",
    "\n",
    "# Feature Selections\n",
    "from sklearn.feature_selection import SelectFromModel\n",
    "from sklearn.feature_selection import RFE\n",
    "\n",
    "# Statistic\n",
    "from sklearn.feature_selection import SelectKBest\n",
    "from sklearn.feature_selection import chi2\n",
    "from sklearn.metrics import confusion_matrix\n",
    "from sklearn.metrics import plot_confusion_matrix\n",
    "\n",
    "# Model\n",
    "import xgboost as xgb\n",
    "\n",
    "# Justification\n",
    "from sklearn.metrics import roc_auc_score\n",
    "from sklearn.metrics import roc_curve"
   ]
  },
  {
   "cell_type": "markdown",
   "metadata": {},
   "source": [
    "# Load The Datasets"
   ]
  },
  {
   "cell_type": "code",
   "execution_count": 17,
   "metadata": {},
   "outputs": [],
   "source": [
    "# read in the json files\n",
    "portfolio = pd.read_json('data/portfolio.json', orient='records', lines=True)\n",
    "profile = pd.read_json('data/profile.json', orient='records', lines=True)\n",
    "transcript = pd.read_json('data/transcript.json', orient='records', lines=True)"
   ]
  },
  {
   "cell_type": "markdown",
   "metadata": {},
   "source": [
    "# Functions"
   ]
  },
  {
   "cell_type": "code",
   "execution_count": 19,
   "metadata": {},
   "outputs": [],
   "source": [
    "def id_mapper(df, column_name, remove_col=False):\n",
    "    \"\"\" \n",
    "    Map id with number\n",
    "    \n",
    "    Args:\n",
    "    df: dataframe. The pandas dataframe.\n",
    "    column_name: string. The column name.\n",
    "    remove_col: bool. Remove the orginal column or not\n",
    "    \n",
    "    Returns:\n",
    "    offerid_encoded: The removed outliner dataframe by using z score.\n",
    "    coded_dict: The coded dictionary\n",
    "    \n",
    "    \"\"\"\n",
    "    coded_dict = dict()\n",
    "    cter = 1\n",
    "    id_encoded = []\n",
    "    \n",
    "    for val in df[column_name]:\n",
    "        if val not in coded_dict:\n",
    "            coded_dict[val] = cter\n",
    "            cter+=1\n",
    "        \n",
    "        id_encoded.append(coded_dict[val])\n",
    "    if remove_col:\n",
    "        del df[column_name]\n",
    "    return id_encoded, coded_dict\n",
    "\n",
    "def z_outlier_filter(df):\n",
    "    \"\"\" \n",
    "    Filter outliner by statistic z score.\n",
    "    \n",
    "    Args:\n",
    "    df: dataframe. The pandas dataframe that must contain only numeric values in each column.\n",
    "    \n",
    "    Returns:\n",
    "    filtered_df: The removed outliner dataframe by using z score.\n",
    "    \n",
    "    \"\"\"\n",
    "    data = df.copy()\n",
    "    \n",
    "    #Calculate z-scores\n",
    "    z_scores = stats.zscore(data)\n",
    "    abs_z_scores = np.abs(z_scores)\n",
    "    \n",
    "    #set NaN to 0\n",
    "    abs_z_scores[np.isnan(abs_z_scores)]= 0\n",
    "\n",
    "    #STD method\n",
    "    filtered_entries = (abs_z_scores < 3).all(axis=1)\n",
    "    filtered_df = data[filtered_entries]\n",
    "    return filtered_df\n",
    "\n",
    "def ML_outlier_filter(df):\n",
    "    \"\"\" \n",
    "    Filter outlier by Isolation Forest\n",
    "    \n",
    "    Args:\n",
    "    df: dataframe. The pandas dataframe that must contain only numeric values and not contain any missing values.\n",
    "    \n",
    "    Returns:\n",
    "    anomaly_solved: The removed outlier dataframe by using machine learning (isolationForest).\n",
    "    \n",
    "    \"\"\"\n",
    "    data = df.copy()\n",
    "    # Define classifier\n",
    "    clf = IsolationForest(max_samples=100, random_state = 42, contamination= 'auto')\n",
    "    data['anomaly'] = clf.fit_predict(data)\n",
    "    \n",
    "    # Select the normal datapoints\n",
    "    anomaly_solved = data[data['anomaly'] == 1]\n",
    "    anomaly_solved = anomaly_solved.drop('anomaly',axis=1)\n",
    "    return anomaly_solved"
   ]
  },
  {
   "cell_type": "markdown",
   "metadata": {},
   "source": [
    "# Data preparation"
   ]
  },
  {
   "cell_type": "markdown",
   "metadata": {},
   "source": [
    "## 1. The portfolio cleaning process "
   ]
  },
  {
   "cell_type": "code",
   "execution_count": 6,
   "metadata": {},
   "outputs": [
    {
     "data": {
      "text/html": [
       "<div>\n",
       "<style scoped>\n",
       "    .dataframe tbody tr th:only-of-type {\n",
       "        vertical-align: middle;\n",
       "    }\n",
       "\n",
       "    .dataframe tbody tr th {\n",
       "        vertical-align: top;\n",
       "    }\n",
       "\n",
       "    .dataframe thead th {\n",
       "        text-align: right;\n",
       "    }\n",
       "</style>\n",
       "<table border=\"1\" class=\"dataframe\">\n",
       "  <thead>\n",
       "    <tr style=\"text-align: right;\">\n",
       "      <th></th>\n",
       "      <th>reward</th>\n",
       "      <th>channels</th>\n",
       "      <th>difficulty</th>\n",
       "      <th>duration</th>\n",
       "      <th>offer_type</th>\n",
       "      <th>id</th>\n",
       "    </tr>\n",
       "  </thead>\n",
       "  <tbody>\n",
       "    <tr>\n",
       "      <th>0</th>\n",
       "      <td>10</td>\n",
       "      <td>[email, mobile, social]</td>\n",
       "      <td>10</td>\n",
       "      <td>7</td>\n",
       "      <td>bogo</td>\n",
       "      <td>ae264e3637204a6fb9bb56bc8210ddfd</td>\n",
       "    </tr>\n",
       "    <tr>\n",
       "      <th>1</th>\n",
       "      <td>10</td>\n",
       "      <td>[web, email, mobile, social]</td>\n",
       "      <td>10</td>\n",
       "      <td>5</td>\n",
       "      <td>bogo</td>\n",
       "      <td>4d5c57ea9a6940dd891ad53e9dbe8da0</td>\n",
       "    </tr>\n",
       "    <tr>\n",
       "      <th>2</th>\n",
       "      <td>0</td>\n",
       "      <td>[web, email, mobile]</td>\n",
       "      <td>0</td>\n",
       "      <td>4</td>\n",
       "      <td>informational</td>\n",
       "      <td>3f207df678b143eea3cee63160fa8bed</td>\n",
       "    </tr>\n",
       "    <tr>\n",
       "      <th>3</th>\n",
       "      <td>5</td>\n",
       "      <td>[web, email, mobile]</td>\n",
       "      <td>5</td>\n",
       "      <td>7</td>\n",
       "      <td>bogo</td>\n",
       "      <td>9b98b8c7a33c4b65b9aebfe6a799e6d9</td>\n",
       "    </tr>\n",
       "    <tr>\n",
       "      <th>4</th>\n",
       "      <td>5</td>\n",
       "      <td>[web, email]</td>\n",
       "      <td>20</td>\n",
       "      <td>10</td>\n",
       "      <td>discount</td>\n",
       "      <td>0b1e1539f2cc45b7b9fa7c272da2e1d7</td>\n",
       "    </tr>\n",
       "    <tr>\n",
       "      <th>5</th>\n",
       "      <td>3</td>\n",
       "      <td>[web, email, mobile, social]</td>\n",
       "      <td>7</td>\n",
       "      <td>7</td>\n",
       "      <td>discount</td>\n",
       "      <td>2298d6c36e964ae4a3e7e9706d1fb8c2</td>\n",
       "    </tr>\n",
       "    <tr>\n",
       "      <th>6</th>\n",
       "      <td>2</td>\n",
       "      <td>[web, email, mobile, social]</td>\n",
       "      <td>10</td>\n",
       "      <td>10</td>\n",
       "      <td>discount</td>\n",
       "      <td>fafdcd668e3743c1bb461111dcafc2a4</td>\n",
       "    </tr>\n",
       "    <tr>\n",
       "      <th>7</th>\n",
       "      <td>0</td>\n",
       "      <td>[email, mobile, social]</td>\n",
       "      <td>0</td>\n",
       "      <td>3</td>\n",
       "      <td>informational</td>\n",
       "      <td>5a8bc65990b245e5a138643cd4eb9837</td>\n",
       "    </tr>\n",
       "    <tr>\n",
       "      <th>8</th>\n",
       "      <td>5</td>\n",
       "      <td>[web, email, mobile, social]</td>\n",
       "      <td>5</td>\n",
       "      <td>5</td>\n",
       "      <td>bogo</td>\n",
       "      <td>f19421c1d4aa40978ebb69ca19b0e20d</td>\n",
       "    </tr>\n",
       "    <tr>\n",
       "      <th>9</th>\n",
       "      <td>2</td>\n",
       "      <td>[web, email, mobile]</td>\n",
       "      <td>10</td>\n",
       "      <td>7</td>\n",
       "      <td>discount</td>\n",
       "      <td>2906b810c7d4411798c6938adc9daaa5</td>\n",
       "    </tr>\n",
       "  </tbody>\n",
       "</table>\n",
       "</div>"
      ],
      "text/plain": [
       "   reward                      channels  difficulty  duration     offer_type  \\\n",
       "0      10       [email, mobile, social]          10         7           bogo   \n",
       "1      10  [web, email, mobile, social]          10         5           bogo   \n",
       "2       0          [web, email, mobile]           0         4  informational   \n",
       "3       5          [web, email, mobile]           5         7           bogo   \n",
       "4       5                  [web, email]          20        10       discount   \n",
       "5       3  [web, email, mobile, social]           7         7       discount   \n",
       "6       2  [web, email, mobile, social]          10        10       discount   \n",
       "7       0       [email, mobile, social]           0         3  informational   \n",
       "8       5  [web, email, mobile, social]           5         5           bogo   \n",
       "9       2          [web, email, mobile]          10         7       discount   \n",
       "\n",
       "                                 id  \n",
       "0  ae264e3637204a6fb9bb56bc8210ddfd  \n",
       "1  4d5c57ea9a6940dd891ad53e9dbe8da0  \n",
       "2  3f207df678b143eea3cee63160fa8bed  \n",
       "3  9b98b8c7a33c4b65b9aebfe6a799e6d9  \n",
       "4  0b1e1539f2cc45b7b9fa7c272da2e1d7  \n",
       "5  2298d6c36e964ae4a3e7e9706d1fb8c2  \n",
       "6  fafdcd668e3743c1bb461111dcafc2a4  \n",
       "7  5a8bc65990b245e5a138643cd4eb9837  \n",
       "8  f19421c1d4aa40978ebb69ca19b0e20d  \n",
       "9  2906b810c7d4411798c6938adc9daaa5  "
      ]
     },
     "execution_count": 6,
     "metadata": {},
     "output_type": "execute_result"
    }
   ],
   "source": [
    "portfolio"
   ]
  },
  {
   "cell_type": "markdown",
   "metadata": {},
   "source": [
    "## Data exploration"
   ]
  },
  {
   "cell_type": "code",
   "execution_count": 7,
   "metadata": {},
   "outputs": [
    {
     "data": {
      "image/png": "[encoded data removed]",
      "text/plain": [
       "<Figure size 720x360 with 1 Axes>"
      ]
     },
     "metadata": {},
     "output_type": "display_data"
    }
   ],
   "source": [
    "plt.figure(figsize=(10, 5))\n",
    "ax = sns.countplot(x = 'offer_type', data = portfolio, palette=\"muted\", order = portfolio['offer_type'].value_counts().index)\n",
    "plt.ylabel('The number of offers')\n",
    "\n",
    "for p in ax.patches:\n",
    "    width = p.getwidth()\n",
    "    height = p.get_height()\n",
    "    x, y = p.get_xy() \n",
    "    ax.annotate(str(round(height/len(portfolio['offer_type'])*100, 2))+'%', (x + width/2, y + height*1.02), ha='center') "
   ]
  },
  {
   "cell_type": "markdown",
   "metadata": {},
   "source": [
    "### 1.1 Find the columns that have mssing value"
   ]
  },
  {
   "cell_type": "code",
   "execution_count": 8,
   "metadata": {},
   "outputs": [
    {
     "data": {
      "text/plain": [
       "Index([], dtype='object')"
      ]
     },
     "execution_count": 8,
     "metadata": {},
     "output_type": "execute_result"
    }
   ],
   "source": [
    "# Find the columns that have NaN value\n",
    "portfolio.columns[portfolio.isna().mean() > 0]"
   ]
  },
  {
   "cell_type": "markdown",
   "metadata": {},
   "source": [
    "### 1.2 Dehash hash_id to readable id"
   ]
  },
  {
   "cell_type": "code",
   "execution_count": 9,
   "metadata": {},
   "outputs": [],
   "source": [
    "# Map hash_id to readable id\n",
    "encoded_offer_ids, offer_coded_dict = id_mapper(portfolio, 'id')\n",
    "portfolio['offer_id'] = encoded_offer_ids"
   ]
  },
  {
   "cell_type": "markdown",
   "metadata": {},
   "source": [
    "### 1.3 Create dummies for channels column"
   ]
  },
  {
   "cell_type": "code",
   "execution_count": 10,
   "metadata": {},
   "outputs": [],
   "source": [
    "# Create the dummies for channels column\n",
    "channel_dummies = pd.get_dummies(portfolio['channels'].apply(pd.Series).stack()).sum(level=0)\n",
    "cleaned_portfolio = pd.concat([portfolio, channel_dummies], axis=1)"
   ]
  },
  {
   "cell_type": "code",
   "execution_count": 11,
   "metadata": {},
   "outputs": [
    {
     "data": {
      "text/html": [
       "<div>\n",
       "<style scoped>\n",
       "    .dataframe tbody tr th:only-of-type {\n",
       "        vertical-align: middle;\n",
       "    }\n",
       "\n",
       "    .dataframe tbody tr th {\n",
       "        vertical-align: top;\n",
       "    }\n",
       "\n",
       "    .dataframe thead th {\n",
       "        text-align: right;\n",
       "    }\n",
       "</style>\n",
       "<table border=\"1\" class=\"dataframe\">\n",
       "  <thead>\n",
       "    <tr style=\"text-align: right;\">\n",
       "      <th></th>\n",
       "      <th>email</th>\n",
       "      <th>mobile</th>\n",
       "      <th>social</th>\n",
       "      <th>web</th>\n",
       "      <th>channels</th>\n",
       "    </tr>\n",
       "  </thead>\n",
       "  <tbody>\n",
       "    <tr>\n",
       "      <th>0</th>\n",
       "      <td>1</td>\n",
       "      <td>1</td>\n",
       "      <td>1</td>\n",
       "      <td>0</td>\n",
       "      <td>[email, mobile, social]</td>\n",
       "    </tr>\n",
       "    <tr>\n",
       "      <th>1</th>\n",
       "      <td>1</td>\n",
       "      <td>1</td>\n",
       "      <td>1</td>\n",
       "      <td>1</td>\n",
       "      <td>[web, email, mobile, social]</td>\n",
       "    </tr>\n",
       "    <tr>\n",
       "      <th>2</th>\n",
       "      <td>1</td>\n",
       "      <td>1</td>\n",
       "      <td>0</td>\n",
       "      <td>1</td>\n",
       "      <td>[web, email, mobile]</td>\n",
       "    </tr>\n",
       "    <tr>\n",
       "      <th>3</th>\n",
       "      <td>1</td>\n",
       "      <td>1</td>\n",
       "      <td>0</td>\n",
       "      <td>1</td>\n",
       "      <td>[web, email, mobile]</td>\n",
       "    </tr>\n",
       "    <tr>\n",
       "      <th>4</th>\n",
       "      <td>1</td>\n",
       "      <td>0</td>\n",
       "      <td>0</td>\n",
       "      <td>1</td>\n",
       "      <td>[web, email]</td>\n",
       "    </tr>\n",
       "  </tbody>\n",
       "</table>\n",
       "</div>"
      ],
      "text/plain": [
       "   email  mobile  social  web                      channels\n",
       "0      1       1       1    0       [email, mobile, social]\n",
       "1      1       1       1    1  [web, email, mobile, social]\n",
       "2      1       1       0    1          [web, email, mobile]\n",
       "3      1       1       0    1          [web, email, mobile]\n",
       "4      1       0       0    1                  [web, email]"
      ]
     },
     "execution_count": 11,
     "metadata": {},
     "output_type": "execute_result"
    }
   ],
   "source": [
    "cleaned_portfolio[['email','mobile','social','web','channels']].head()"
   ]
  },
  {
   "cell_type": "markdown",
   "metadata": {},
   "source": [
    "### 1.4 Rename columns"
   ]
  },
  {
   "cell_type": "code",
   "execution_count": 12,
   "metadata": {},
   "outputs": [],
   "source": [
    "# Rename column name to make it readable\n",
    "cleaned_portfolio.rename({'id': 'hashed_offer_id'}, axis = 1, inplace = True)"
   ]
  },
  {
   "cell_type": "code",
   "execution_count": 13,
   "metadata": {},
   "outputs": [
    {
     "data": {
      "text/html": [
       "<div>\n",
       "<style scoped>\n",
       "    .dataframe tbody tr th:only-of-type {\n",
       "        vertical-align: middle;\n",
       "    }\n",
       "\n",
       "    .dataframe tbody tr th {\n",
       "        vertical-align: top;\n",
       "    }\n",
       "\n",
       "    .dataframe thead th {\n",
       "        text-align: right;\n",
       "    }\n",
       "</style>\n",
       "<table border=\"1\" class=\"dataframe\">\n",
       "  <thead>\n",
       "    <tr style=\"text-align: right;\">\n",
       "      <th></th>\n",
       "      <th>hashed_offer_id</th>\n",
       "      <th>offer_id</th>\n",
       "    </tr>\n",
       "  </thead>\n",
       "  <tbody>\n",
       "    <tr>\n",
       "      <th>0</th>\n",
       "      <td>ae264e3637204a6fb9bb56bc8210ddfd</td>\n",
       "      <td>1</td>\n",
       "    </tr>\n",
       "    <tr>\n",
       "      <th>1</th>\n",
       "      <td>4d5c57ea9a6940dd891ad53e9dbe8da0</td>\n",
       "      <td>2</td>\n",
       "    </tr>\n",
       "    <tr>\n",
       "      <th>2</th>\n",
       "      <td>3f207df678b143eea3cee63160fa8bed</td>\n",
       "      <td>3</td>\n",
       "    </tr>\n",
       "  </tbody>\n",
       "</table>\n",
       "</div>"
      ],
      "text/plain": [
       "                    hashed_offer_id  offer_id\n",
       "0  ae264e3637204a6fb9bb56bc8210ddfd         1\n",
       "1  4d5c57ea9a6940dd891ad53e9dbe8da0         2\n",
       "2  3f207df678b143eea3cee63160fa8bed         3"
      ]
     },
     "execution_count": 13,
     "metadata": {},
     "output_type": "execute_result"
    }
   ],
   "source": [
    "cleaned_portfolio[['hashed_offer_id','offer_id']].head(3)"
   ]
  },
  {
   "cell_type": "code",
   "execution_count": 14,
   "metadata": {
    "scrolled": true
   },
   "outputs": [
    {
     "data": {
      "text/html": [
       "<div>\n",
       "<style scoped>\n",
       "    .dataframe tbody tr th:only-of-type {\n",
       "        vertical-align: middle;\n",
       "    }\n",
       "\n",
       "    .dataframe tbody tr th {\n",
       "        vertical-align: top;\n",
       "    }\n",
       "\n",
       "    .dataframe thead th {\n",
       "        text-align: right;\n",
       "    }\n",
       "</style>\n",
       "<table border=\"1\" class=\"dataframe\">\n",
       "  <thead>\n",
       "    <tr style=\"text-align: right;\">\n",
       "      <th></th>\n",
       "      <th>reward</th>\n",
       "      <th>channels</th>\n",
       "      <th>difficulty</th>\n",
       "      <th>duration</th>\n",
       "      <th>offer_type</th>\n",
       "      <th>hashed_offer_id</th>\n",
       "      <th>offer_id</th>\n",
       "      <th>email</th>\n",
       "      <th>mobile</th>\n",
       "      <th>social</th>\n",
       "      <th>web</th>\n",
       "    </tr>\n",
       "  </thead>\n",
       "  <tbody>\n",
       "    <tr>\n",
       "      <th>0</th>\n",
       "      <td>10</td>\n",
       "      <td>[email, mobile, social]</td>\n",
       "      <td>10</td>\n",
       "      <td>7</td>\n",
       "      <td>bogo</td>\n",
       "      <td>ae264e3637204a6fb9bb56bc8210ddfd</td>\n",
       "      <td>1</td>\n",
       "      <td>1</td>\n",
       "      <td>1</td>\n",
       "      <td>1</td>\n",
       "      <td>0</td>\n",
       "    </tr>\n",
       "    <tr>\n",
       "      <th>1</th>\n",
       "      <td>10</td>\n",
       "      <td>[web, email, mobile, social]</td>\n",
       "      <td>10</td>\n",
       "      <td>5</td>\n",
       "      <td>bogo</td>\n",
       "      <td>4d5c57ea9a6940dd891ad53e9dbe8da0</td>\n",
       "      <td>2</td>\n",
       "      <td>1</td>\n",
       "      <td>1</td>\n",
       "      <td>1</td>\n",
       "      <td>1</td>\n",
       "    </tr>\n",
       "    <tr>\n",
       "      <th>2</th>\n",
       "      <td>0</td>\n",
       "      <td>[web, email, mobile]</td>\n",
       "      <td>0</td>\n",
       "      <td>4</td>\n",
       "      <td>informational</td>\n",
       "      <td>3f207df678b143eea3cee63160fa8bed</td>\n",
       "      <td>3</td>\n",
       "      <td>1</td>\n",
       "      <td>1</td>\n",
       "      <td>0</td>\n",
       "      <td>1</td>\n",
       "    </tr>\n",
       "    <tr>\n",
       "      <th>3</th>\n",
       "      <td>5</td>\n",
       "      <td>[web, email, mobile]</td>\n",
       "      <td>5</td>\n",
       "      <td>7</td>\n",
       "      <td>bogo</td>\n",
       "      <td>9b98b8c7a33c4b65b9aebfe6a799e6d9</td>\n",
       "      <td>4</td>\n",
       "      <td>1</td>\n",
       "      <td>1</td>\n",
       "      <td>0</td>\n",
       "      <td>1</td>\n",
       "    </tr>\n",
       "    <tr>\n",
       "      <th>4</th>\n",
       "      <td>5</td>\n",
       "      <td>[web, email]</td>\n",
       "      <td>20</td>\n",
       "      <td>10</td>\n",
       "      <td>discount</td>\n",
       "      <td>0b1e1539f2cc45b7b9fa7c272da2e1d7</td>\n",
       "      <td>5</td>\n",
       "      <td>1</td>\n",
       "      <td>0</td>\n",
       "      <td>0</td>\n",
       "      <td>1</td>\n",
       "    </tr>\n",
       "  </tbody>\n",
       "</table>\n",
       "</div>"
      ],
      "text/plain": [
       "   reward                      channels  difficulty  duration     offer_type  \\\n",
       "0      10       [email, mobile, social]          10         7           bogo   \n",
       "1      10  [web, email, mobile, social]          10         5           bogo   \n",
       "2       0          [web, email, mobile]           0         4  informational   \n",
       "3       5          [web, email, mobile]           5         7           bogo   \n",
       "4       5                  [web, email]          20        10       discount   \n",
       "\n",
       "                    hashed_offer_id  offer_id  email  mobile  social  web  \n",
       "0  ae264e3637204a6fb9bb56bc8210ddfd         1      1       1       1    0  \n",
       "1  4d5c57ea9a6940dd891ad53e9dbe8da0         2      1       1       1    1  \n",
       "2  3f207df678b143eea3cee63160fa8bed         3      1       1       0    1  \n",
       "3  9b98b8c7a33c4b65b9aebfe6a799e6d9         4      1       1       0    1  \n",
       "4  0b1e1539f2cc45b7b9fa7c272da2e1d7         5      1       0       0    1  "
      ]
     },
     "execution_count": 14,
     "metadata": {},
     "output_type": "execute_result"
    }
   ],
   "source": [
    "# Cleaned portfolio\n",
    "cleaned_portfolio.head()"
   ]
  },
  {
   "cell_type": "markdown",
   "metadata": {},
   "source": [
    "## 2. The profile cleaning process "
   ]
  },
  {
   "cell_type": "code",
   "execution_count": 15,
   "metadata": {
    "scrolled": true
   },
   "outputs": [
    {
     "data": {
      "text/html": [
       "<div>\n",
       "<style scoped>\n",
       "    .dataframe tbody tr th:only-of-type {\n",
       "        vertical-align: middle;\n",
       "    }\n",
       "\n",
       "    .dataframe tbody tr th {\n",
       "        vertical-align: top;\n",
       "    }\n",
       "\n",
       "    .dataframe thead th {\n",
       "        text-align: right;\n",
       "    }\n",
       "</style>\n",
       "<table border=\"1\" class=\"dataframe\">\n",
       "  <thead>\n",
       "    <tr style=\"text-align: right;\">\n",
       "      <th></th>\n",
       "      <th>gender</th>\n",
       "      <th>age</th>\n",
       "      <th>id</th>\n",
       "      <th>became_member_on</th>\n",
       "      <th>income</th>\n",
       "    </tr>\n",
       "  </thead>\n",
       "  <tbody>\n",
       "    <tr>\n",
       "      <th>0</th>\n",
       "      <td>None</td>\n",
       "      <td>118</td>\n",
       "      <td>68be06ca386d4c31939f3a4f0e3dd783</td>\n",
       "      <td>20170212</td>\n",
       "      <td>NaN</td>\n",
       "    </tr>\n",
       "    <tr>\n",
       "      <th>1</th>\n",
       "      <td>F</td>\n",
       "      <td>55</td>\n",
       "      <td>0610b486422d4921ae7d2bf64640c50b</td>\n",
       "      <td>20170715</td>\n",
       "      <td>112000.0</td>\n",
       "    </tr>\n",
       "    <tr>\n",
       "      <th>2</th>\n",
       "      <td>None</td>\n",
       "      <td>118</td>\n",
       "      <td>38fe809add3b4fcf9315a9694bb96ff5</td>\n",
       "      <td>20180712</td>\n",
       "      <td>NaN</td>\n",
       "    </tr>\n",
       "    <tr>\n",
       "      <th>3</th>\n",
       "      <td>F</td>\n",
       "      <td>75</td>\n",
       "      <td>78afa995795e4d85b5d9ceeca43f5fef</td>\n",
       "      <td>20170509</td>\n",
       "      <td>100000.0</td>\n",
       "    </tr>\n",
       "    <tr>\n",
       "      <th>4</th>\n",
       "      <td>None</td>\n",
       "      <td>118</td>\n",
       "      <td>a03223e636434f42ac4c3df47e8bac43</td>\n",
       "      <td>20170804</td>\n",
       "      <td>NaN</td>\n",
       "    </tr>\n",
       "  </tbody>\n",
       "</table>\n",
       "</div>"
      ],
      "text/plain": [
       "  gender  age                                id  became_member_on    income\n",
       "0   None  118  68be06ca386d4c31939f3a4f0e3dd783          20170212       NaN\n",
       "1      F   55  0610b486422d4921ae7d2bf64640c50b          20170715  112000.0\n",
       "2   None  118  38fe809add3b4fcf9315a9694bb96ff5          20180712       NaN\n",
       "3      F   75  78afa995795e4d85b5d9ceeca43f5fef          20170509  100000.0\n",
       "4   None  118  a03223e636434f42ac4c3df47e8bac43          20170804       NaN"
      ]
     },
     "execution_count": 15,
     "metadata": {},
     "output_type": "execute_result"
    }
   ],
   "source": [
    "profile.head()"
   ]
  },
  {
   "cell_type": "markdown",
   "metadata": {},
   "source": [
    "## Data exploration"
   ]
  },
  {
   "cell_type": "code",
   "execution_count": 16,
   "metadata": {},
   "outputs": [
    {
     "data": {
      "image/png": "[encoded data removed]",
      "text/plain": [
       "<Figure size 720x360 with 1 Axes>"
      ]
     },
     "metadata": {},
     "output_type": "display_data"
    }
   ],
   "source": [
    "plt.figure(figsize=(10, 5))\n",
    "ax = sns.countplot(x = 'gender', data = profile, palette=\"muted\", order = profile['gender'].value_counts().index)\n",
    "plt.ylabel('The number of customers')\n",
    "\n",
    "for p in ax.patches:\n",
    "    width = p.get_width()\n",
    "    height = p.get_height()\n",
    "    x, y = p.get_xy() \n",
    "    ax.annotate(str(round(height/len(profile['gender'])*100, 2))+'%', (x + width/2, y + height*1.02), ha='center') "
   ]
  },
  {
   "cell_type": "code",
   "execution_count": 17,
   "metadata": {},
   "outputs": [
    {
     "data": {
      "text/plain": [
       "Text(0, 0.5, 'The number of customers')"
      ]
     },
     "execution_count": 17,
     "metadata": {},
     "output_type": "execute_result"
    },
    {
     "data": {
      "image/png": "[encoded data removed]",
      "text/plain": [
       "<Figure size 720x360 with 1 Axes>"
      ]
     },
     "metadata": {},
     "output_type": "display_data"
    }
   ],
   "source": [
    "plt.figure(figsize=(10, 5))\n",
    "sns.histplot(profile['income'], color='darkblue', kde=True)\n",
    "plt.ylabel('The number of customers')"
   ]
  },
  {
   "cell_type": "code",
   "execution_count": 18,
   "metadata": {},
   "outputs": [
    {
     "data": {
      "text/plain": [
       "(30000.0, 120000.0)"
      ]
     },
     "execution_count": 18,
     "metadata": {},
     "output_type": "execute_result"
    }
   ],
   "source": [
    "profile['income'].min(), profile['income'].max()"
   ]
  },
  {
   "cell_type": "code",
   "execution_count": 19,
   "metadata": {},
   "outputs": [
    {
     "data": {
      "text/plain": [
       "Text(0, 0.5, 'The number of customers')"
      ]
     },
     "execution_count": 19,
     "metadata": {},
     "output_type": "execute_result"
    },
    {
     "data": {
      "image/png": "[encoded data removed]",
      "text/plain": [
       "<Figure size 720x360 with 1 Axes>"
      ]
     },
     "metadata": {},
     "output_type": "display_data"
    }
   ],
   "source": [
    "plt.figure(figsize=(10, 5))\n",
    "sns.histplot(profile['age'], kde=True, color='darkblue')\n",
    "plt.ylabel('The number of customers')"
   ]
  },
  {
   "cell_type": "markdown",
   "metadata": {},
   "source": [
    "### 2.1 Find the columns that contain missing values"
   ]
  },
  {
   "cell_type": "code",
   "execution_count": 20,
   "metadata": {},
   "outputs": [
    {
     "data": {
      "text/plain": [
       "Index(['gender', 'income'], dtype='object')"
      ]
     },
     "execution_count": 20,
     "metadata": {},
     "output_type": "execute_result"
    }
   ],
   "source": [
    "# Find the columns that have missing value value (NaN)\n",
    "profile.columns[profile.isna().mean() > 0]"
   ]
  },
  {
   "cell_type": "markdown",
   "metadata": {},
   "source": [
    "### 2.2 Investigate missing values"
   ]
  },
  {
   "cell_type": "code",
   "execution_count": 21,
   "metadata": {},
   "outputs": [
    {
     "data": {
      "image/png": "[encoded data removed]",
      "text/plain": [
       "<Figure size 720x360 with 1 Axes>"
      ]
     },
     "metadata": {},
     "output_type": "display_data"
    }
   ],
   "source": [
    "plt.figure(figsize=(10, 5))\n",
    "ax = sns.heatmap(profile.isnull(), cbar=False)\n",
    "plt.ylabel('The number of customers')\n",
    "for i in range(profile.isnull().shape[1]+1):\n",
    "    ax.axvline(i, color='white', lw=1)\n",
    "plt.tight_layout()"
   ]
  },
  {
   "cell_type": "code",
   "execution_count": 22,
   "metadata": {},
   "outputs": [
    {
     "data": {
      "text/html": [
       "<div>\n",
       "<style scoped>\n",
       "    .dataframe tbody tr th:only-of-type {\n",
       "        vertical-align: middle;\n",
       "    }\n",
       "\n",
       "    .dataframe tbody tr th {\n",
       "        vertical-align: top;\n",
       "    }\n",
       "\n",
       "    .dataframe thead th {\n",
       "        text-align: right;\n",
       "    }\n",
       "</style>\n",
       "<table border=\"1\" class=\"dataframe\">\n",
       "  <thead>\n",
       "    <tr style=\"text-align: right;\">\n",
       "      <th></th>\n",
       "      <th>gender</th>\n",
       "      <th>age</th>\n",
       "      <th>id</th>\n",
       "      <th>became_member_on</th>\n",
       "      <th>income</th>\n",
       "    </tr>\n",
       "  </thead>\n",
       "  <tbody>\n",
       "    <tr>\n",
       "      <th>0</th>\n",
       "      <td>None</td>\n",
       "      <td>118</td>\n",
       "      <td>68be06ca386d4c31939f3a4f0e3dd783</td>\n",
       "      <td>20170212</td>\n",
       "      <td>NaN</td>\n",
       "    </tr>\n",
       "    <tr>\n",
       "      <th>2</th>\n",
       "      <td>None</td>\n",
       "      <td>118</td>\n",
       "      <td>38fe809add3b4fcf9315a9694bb96ff5</td>\n",
       "      <td>20180712</td>\n",
       "      <td>NaN</td>\n",
       "    </tr>\n",
       "    <tr>\n",
       "      <th>4</th>\n",
       "      <td>None</td>\n",
       "      <td>118</td>\n",
       "      <td>a03223e636434f42ac4c3df47e8bac43</td>\n",
       "      <td>20170804</td>\n",
       "      <td>NaN</td>\n",
       "    </tr>\n",
       "    <tr>\n",
       "      <th>6</th>\n",
       "      <td>None</td>\n",
       "      <td>118</td>\n",
       "      <td>8ec6ce2a7e7949b1bf142def7d0e0586</td>\n",
       "      <td>20170925</td>\n",
       "      <td>NaN</td>\n",
       "    </tr>\n",
       "    <tr>\n",
       "      <th>7</th>\n",
       "      <td>None</td>\n",
       "      <td>118</td>\n",
       "      <td>68617ca6246f4fbc85e91a2a49552598</td>\n",
       "      <td>20171002</td>\n",
       "      <td>NaN</td>\n",
       "    </tr>\n",
       "  </tbody>\n",
       "</table>\n",
       "</div>"
      ],
      "text/plain": [
       "  gender  age                                id  became_member_on  income\n",
       "0   None  118  68be06ca386d4c31939f3a4f0e3dd783          20170212     NaN\n",
       "2   None  118  38fe809add3b4fcf9315a9694bb96ff5          20180712     NaN\n",
       "4   None  118  a03223e636434f42ac4c3df47e8bac43          20170804     NaN\n",
       "6   None  118  8ec6ce2a7e7949b1bf142def7d0e0586          20170925     NaN\n",
       "7   None  118  68617ca6246f4fbc85e91a2a49552598          20171002     NaN"
      ]
     },
     "execution_count": 22,
     "metadata": {},
     "output_type": "execute_result"
    }
   ],
   "source": [
    "# Detected the abnormal relationship between income (NaN) and age value (118)\n",
    "profile[(profile['age'] == 118) & (profile['income'].isna())].head()"
   ]
  },
  {
   "cell_type": "markdown",
   "metadata": {},
   "source": [
    "### 2.3 Drop missing values\n",
    "Remove the missing value (NaN) because of abnormal relationship pattern (age=118, gender=None, income=NaN)."
   ]
  },
  {
   "cell_type": "code",
   "execution_count": 23,
   "metadata": {},
   "outputs": [],
   "source": [
    "# Remove the NaN that come from the abnormal relationship\n",
    "profile.dropna(subset=['income'], inplace = True)\n",
    "# Reset index after drop NaN\n",
    "profile.reset_index(drop=True, inplace=True)"
   ]
  },
  {
   "cell_type": "markdown",
   "metadata": {},
   "source": [
    "### 2.4 Convert date string to date type"
   ]
  },
  {
   "cell_type": "code",
   "execution_count": 24,
   "metadata": {},
   "outputs": [],
   "source": [
    "# Convert date string to date type\n",
    "profile.loc[:,'became_member_on'] = pd.to_datetime(profile.loc[:,'became_member_on'], format='%Y%m%d', errors='coerce')"
   ]
  },
  {
   "cell_type": "markdown",
   "metadata": {},
   "source": [
    "### 2.5 Dehash hash_id to readable id"
   ]
  },
  {
   "cell_type": "code",
   "execution_count": 25,
   "metadata": {},
   "outputs": [],
   "source": [
    "# Map hash_id to readable id\n",
    "encoded_customer_ids, customer_coded_dict = id_mapper(profile, 'id')\n",
    "profile['customer_id'] = encoded_customer_ids"
   ]
  },
  {
   "cell_type": "markdown",
   "metadata": {},
   "source": [
    "### 2.6 Rename columns"
   ]
  },
  {
   "cell_type": "code",
   "execution_count": 26,
   "metadata": {},
   "outputs": [],
   "source": [
    "# Rename to make columns more meaningful\n",
    "cleaned_profile = profile.rename({'id': 'hash_customer_id'}, axis = 1)"
   ]
  },
  {
   "cell_type": "code",
   "execution_count": 27,
   "metadata": {},
   "outputs": [
    {
     "data": {
      "text/html": [
       "<div>\n",
       "<style scoped>\n",
       "    .dataframe tbody tr th:only-of-type {\n",
       "        vertical-align: middle;\n",
       "    }\n",
       "\n",
       "    .dataframe tbody tr th {\n",
       "        vertical-align: top;\n",
       "    }\n",
       "\n",
       "    .dataframe thead th {\n",
       "        text-align: right;\n",
       "    }\n",
       "</style>\n",
       "<table border=\"1\" class=\"dataframe\">\n",
       "  <thead>\n",
       "    <tr style=\"text-align: right;\">\n",
       "      <th></th>\n",
       "      <th>gender</th>\n",
       "      <th>age</th>\n",
       "      <th>hash_customer_id</th>\n",
       "      <th>became_member_on</th>\n",
       "      <th>income</th>\n",
       "      <th>customer_id</th>\n",
       "    </tr>\n",
       "  </thead>\n",
       "  <tbody>\n",
       "    <tr>\n",
       "      <th>0</th>\n",
       "      <td>F</td>\n",
       "      <td>55</td>\n",
       "      <td>0610b486422d4921ae7d2bf64640c50b</td>\n",
       "      <td>2017-07-15</td>\n",
       "      <td>112000.0</td>\n",
       "      <td>1</td>\n",
       "    </tr>\n",
       "    <tr>\n",
       "      <th>1</th>\n",
       "      <td>F</td>\n",
       "      <td>75</td>\n",
       "      <td>78afa995795e4d85b5d9ceeca43f5fef</td>\n",
       "      <td>2017-05-09</td>\n",
       "      <td>100000.0</td>\n",
       "      <td>2</td>\n",
       "    </tr>\n",
       "    <tr>\n",
       "      <th>2</th>\n",
       "      <td>M</td>\n",
       "      <td>68</td>\n",
       "      <td>e2127556f4f64592b11af22de27a7932</td>\n",
       "      <td>2018-04-26</td>\n",
       "      <td>70000.0</td>\n",
       "      <td>3</td>\n",
       "    </tr>\n",
       "    <tr>\n",
       "      <th>3</th>\n",
       "      <td>M</td>\n",
       "      <td>65</td>\n",
       "      <td>389bc3fa690240e798340f5a15918d5c</td>\n",
       "      <td>2018-02-09</td>\n",
       "      <td>53000.0</td>\n",
       "      <td>4</td>\n",
       "    </tr>\n",
       "    <tr>\n",
       "      <th>4</th>\n",
       "      <td>M</td>\n",
       "      <td>58</td>\n",
       "      <td>2eeac8d8feae4a8cad5a6af0499a211d</td>\n",
       "      <td>2017-11-11</td>\n",
       "      <td>51000.0</td>\n",
       "      <td>5</td>\n",
       "    </tr>\n",
       "  </tbody>\n",
       "</table>\n",
       "</div>"
      ],
      "text/plain": [
       "  gender  age                  hash_customer_id became_member_on    income  \\\n",
       "0      F   55  0610b486422d4921ae7d2bf64640c50b       2017-07-15  112000.0   \n",
       "1      F   75  78afa995795e4d85b5d9ceeca43f5fef       2017-05-09  100000.0   \n",
       "2      M   68  e2127556f4f64592b11af22de27a7932       2018-04-26   70000.0   \n",
       "3      M   65  389bc3fa690240e798340f5a15918d5c       2018-02-09   53000.0   \n",
       "4      M   58  2eeac8d8feae4a8cad5a6af0499a211d       2017-11-11   51000.0   \n",
       "\n",
       "   customer_id  \n",
       "0            1  \n",
       "1            2  \n",
       "2            3  \n",
       "3            4  \n",
       "4            5  "
      ]
     },
     "execution_count": 27,
     "metadata": {},
     "output_type": "execute_result"
    }
   ],
   "source": [
    "# Cleaned profile\n",
    "cleaned_profile.head()"
   ]
  },
  {
   "cell_type": "markdown",
   "metadata": {},
   "source": [
    "## Data exploration after drop abnormal values"
   ]
  },
  {
   "cell_type": "code",
   "execution_count": 28,
   "metadata": {},
   "outputs": [
    {
     "data": {
      "text/plain": [
       "Text(0, 0.5, 'The number of customers')"
      ]
     },
     "execution_count": 28,
     "metadata": {},
     "output_type": "execute_result"
    },
    {
     "data": {
      "image/png": "[encoded data removed]",
      "text/plain": [
       "<Figure size 720x360 with 1 Axes>"
      ]
     },
     "metadata": {},
     "output_type": "display_data"
    }
   ],
   "source": [
    "plt.figure(figsize=(10, 5))\n",
    "sns.histplot(cleaned_profile['age'], kde=True, color='darkblue')\n",
    "plt.ylabel('The number of customers')"
   ]
  },
  {
   "cell_type": "markdown",
   "metadata": {},
   "source": [
    "## 3. The transcript cleaning process"
   ]
  },
  {
   "cell_type": "code",
   "execution_count": 29,
   "metadata": {
    "scrolled": true
   },
   "outputs": [
    {
     "data": {
      "text/html": [
       "<div>\n",
       "<style scoped>\n",
       "    .dataframe tbody tr th:only-of-type {\n",
       "        vertical-align: middle;\n",
       "    }\n",
       "\n",
       "    .dataframe tbody tr th {\n",
       "        vertical-align: top;\n",
       "    }\n",
       "\n",
       "    .dataframe thead th {\n",
       "        text-align: right;\n",
       "    }\n",
       "</style>\n",
       "<table border=\"1\" class=\"dataframe\">\n",
       "  <thead>\n",
       "    <tr style=\"text-align: right;\">\n",
       "      <th></th>\n",
       "      <th>person</th>\n",
       "      <th>event</th>\n",
       "      <th>value</th>\n",
       "      <th>time</th>\n",
       "    </tr>\n",
       "  </thead>\n",
       "  <tbody>\n",
       "    <tr>\n",
       "      <th>0</th>\n",
       "      <td>78afa995795e4d85b5d9ceeca43f5fef</td>\n",
       "      <td>offer received</td>\n",
       "      <td>{'offer id': '9b98b8c7a33c4b65b9aebfe6a799e6d9'}</td>\n",
       "      <td>0</td>\n",
       "    </tr>\n",
       "    <tr>\n",
       "      <th>1</th>\n",
       "      <td>a03223e636434f42ac4c3df47e8bac43</td>\n",
       "      <td>offer received</td>\n",
       "      <td>{'offer id': '0b1e1539f2cc45b7b9fa7c272da2e1d7'}</td>\n",
       "      <td>0</td>\n",
       "    </tr>\n",
       "    <tr>\n",
       "      <th>2</th>\n",
       "      <td>e2127556f4f64592b11af22de27a7932</td>\n",
       "      <td>offer received</td>\n",
       "      <td>{'offer id': '2906b810c7d4411798c6938adc9daaa5'}</td>\n",
       "      <td>0</td>\n",
       "    </tr>\n",
       "    <tr>\n",
       "      <th>3</th>\n",
       "      <td>8ec6ce2a7e7949b1bf142def7d0e0586</td>\n",
       "      <td>offer received</td>\n",
       "      <td>{'offer id': 'fafdcd668e3743c1bb461111dcafc2a4'}</td>\n",
       "      <td>0</td>\n",
       "    </tr>\n",
       "    <tr>\n",
       "      <th>4</th>\n",
       "      <td>68617ca6246f4fbc85e91a2a49552598</td>\n",
       "      <td>offer received</td>\n",
       "      <td>{'offer id': '4d5c57ea9a6940dd891ad53e9dbe8da0'}</td>\n",
       "      <td>0</td>\n",
       "    </tr>\n",
       "  </tbody>\n",
       "</table>\n",
       "</div>"
      ],
      "text/plain": [
       "                             person           event  \\\n",
       "0  78afa995795e4d85b5d9ceeca43f5fef  offer received   \n",
       "1  a03223e636434f42ac4c3df47e8bac43  offer received   \n",
       "2  e2127556f4f64592b11af22de27a7932  offer received   \n",
       "3  8ec6ce2a7e7949b1bf142def7d0e0586  offer received   \n",
       "4  68617ca6246f4fbc85e91a2a49552598  offer received   \n",
       "\n",
       "                                              value  time  \n",
       "0  {'offer id': '9b98b8c7a33c4b65b9aebfe6a799e6d9'}     0  \n",
       "1  {'offer id': '0b1e1539f2cc45b7b9fa7c272da2e1d7'}     0  \n",
       "2  {'offer id': '2906b810c7d4411798c6938adc9daaa5'}     0  \n",
       "3  {'offer id': 'fafdcd668e3743c1bb461111dcafc2a4'}     0  \n",
       "4  {'offer id': '4d5c57ea9a6940dd891ad53e9dbe8da0'}     0  "
      ]
     },
     "execution_count": 29,
     "metadata": {},
     "output_type": "execute_result"
    }
   ],
   "source": [
    "transcript.head()"
   ]
  },
  {
   "cell_type": "markdown",
   "metadata": {},
   "source": [
    "## Data exploration"
   ]
  },
  {
   "cell_type": "code",
   "execution_count": 30,
   "metadata": {},
   "outputs": [
    {
     "data": {
      "image/png": "[encoded data removed]",
      "text/plain": [
       "<Figure size 720x360 with 1 Axes>"
      ]
     },
     "metadata": {},
     "output_type": "display_data"
    }
   ],
   "source": [
    "plt.figure(figsize=(10, 5))\n",
    "ax = sns.countplot(x = 'event', data = transcript, palette=\"muted\", order = transcript['event'].value_counts().index)\n",
    "plt.ylabel('The number of customers')\n",
    "\n",
    "for p in ax.patches:\n",
    "    width = p.get_width()\n",
    "    height = p.get_height()\n",
    "    x, y = p.get_xy() \n",
    "    ax.annotate(str(round(height/len(transcript['event'])*100, 2))+'%', (x + width/2, y + height*1.02), ha='center') "
   ]
  },
  {
   "cell_type": "markdown",
   "metadata": {},
   "source": [
    "### 3.1 Explore the value column\n",
    "Explore value column which contain json type in transcript dataframe"
   ]
  },
  {
   "cell_type": "code",
   "execution_count": 31,
   "metadata": {
    "scrolled": true
   },
   "outputs": [
    {
     "data": {
      "text/plain": [
       "0         {'offer id': '9b98b8c7a33c4b65b9aebfe6a799e6d9'}\n",
       "1         {'offer id': '0b1e1539f2cc45b7b9fa7c272da2e1d7'}\n",
       "2         {'offer id': '2906b810c7d4411798c6938adc9daaa5'}\n",
       "3         {'offer id': 'fafdcd668e3743c1bb461111dcafc2a4'}\n",
       "4         {'offer id': '4d5c57ea9a6940dd891ad53e9dbe8da0'}\n",
       "                                ...                       \n",
       "306529                      {'amount': 1.5899999999999999}\n",
       "306530                                    {'amount': 9.53}\n",
       "306531                                    {'amount': 3.61}\n",
       "306532                      {'amount': 3.5300000000000002}\n",
       "306533                                    {'amount': 4.05}\n",
       "Name: value, Length: 306534, dtype: object"
      ]
     },
     "execution_count": 31,
     "metadata": {},
     "output_type": "execute_result"
    }
   ],
   "source": [
    "# Explore value in transcript dataframe\n",
    "transcript['value']"
   ]
  },
  {
   "cell_type": "markdown",
   "metadata": {},
   "source": [
    "### 3.2 Find the columns that contain missing values"
   ]
  },
  {
   "cell_type": "code",
   "execution_count": 32,
   "metadata": {},
   "outputs": [
    {
     "data": {
      "text/plain": [
       "Index([], dtype='object')"
      ]
     },
     "execution_count": 32,
     "metadata": {},
     "output_type": "execute_result"
    }
   ],
   "source": [
    "# Find the columns that have missing value value (NaN)\n",
    "transcript.columns[transcript.isna().mean() > 0]"
   ]
  },
  {
   "cell_type": "markdown",
   "metadata": {},
   "source": [
    "### 3.3 Dehash customer id to readable id\n",
    "Dehash the customer id first to reduce data cleaning time."
   ]
  },
  {
   "cell_type": "code",
   "execution_count": 33,
   "metadata": {},
   "outputs": [],
   "source": [
    "# Create customer_id column\n",
    "transcript['customer_id'] = np.nan\n",
    "\n",
    "# Dehash the person column\n",
    "# Change hash id to readable id\n",
    "for idx, value in enumerate(transcript['person']):\n",
    "    if value in customer_coded_dict:\n",
    "        transcript.loc[idx,'customer_id'] = customer_coded_dict[value]"
   ]
  },
  {
   "cell_type": "markdown",
   "metadata": {},
   "source": [
    "### 3.4 Extract variables from value dictionary column\n",
    "Extract the hashed offer id, reward, and amount from dictionary value columns to new columns"
   ]
  },
  {
   "cell_type": "code",
   "execution_count": 35,
   "metadata": {},
   "outputs": [],
   "source": [
    "#Extract the hashed offer id, reward, and amount from dictionary value columns to new columns below\n",
    "# Declare the desired columns then fill with nan values\n",
    "transcript['hashed_offer_id'] = np.nan\n",
    "transcript['reward'] = np.nan\n",
    "transcript['amount'] = np.nan\n",
    "\n",
    "for i, value in enumerate(transcript['value']):\n",
    "    if 'reward' in value:\n",
    "        transcript.loc[i,'reward']  = value['reward']\n",
    "    if 'offer id' in value:\n",
    "        transcript.loc[i,'hashed_offer_id']  = value['offer id']    \n",
    "    if 'offer_id' in value:\n",
    "        transcript.loc[i,'hashed_offer_id']  = value['offer_id']\n",
    "    elif 'amount' in value:\n",
    "        transcript.loc[i,'amount']  = value['amount']"
   ]
  },
  {
   "cell_type": "code",
   "execution_count": 36,
   "metadata": {
    "scrolled": false
   },
   "outputs": [
    {
     "data": {
      "text/html": [
       "<div>\n",
       "<style scoped>\n",
       "    .dataframe tbody tr th:only-of-type {\n",
       "        vertical-align: middle;\n",
       "    }\n",
       "\n",
       "    .dataframe tbody tr th {\n",
       "        vertical-align: top;\n",
       "    }\n",
       "\n",
       "    .dataframe thead th {\n",
       "        text-align: right;\n",
       "    }\n",
       "</style>\n",
       "<table border=\"1\" class=\"dataframe\">\n",
       "  <thead>\n",
       "    <tr style=\"text-align: right;\">\n",
       "      <th></th>\n",
       "      <th>person</th>\n",
       "      <th>event</th>\n",
       "      <th>value</th>\n",
       "      <th>time</th>\n",
       "      <th>customer_id</th>\n",
       "      <th>hashed_offer_id</th>\n",
       "      <th>reward</th>\n",
       "      <th>amount</th>\n",
       "    </tr>\n",
       "  </thead>\n",
       "  <tbody>\n",
       "    <tr>\n",
       "      <th>0</th>\n",
       "      <td>78afa995795e4d85b5d9ceeca43f5fef</td>\n",
       "      <td>offer received</td>\n",
       "      <td>{'offer id': '9b98b8c7a33c4b65b9aebfe6a799e6d9'}</td>\n",
       "      <td>0</td>\n",
       "      <td>2.0</td>\n",
       "      <td>9b98b8c7a33c4b65b9aebfe6a799e6d9</td>\n",
       "      <td>NaN</td>\n",
       "      <td>NaN</td>\n",
       "    </tr>\n",
       "    <tr>\n",
       "      <th>1</th>\n",
       "      <td>a03223e636434f42ac4c3df47e8bac43</td>\n",
       "      <td>offer received</td>\n",
       "      <td>{'offer id': '0b1e1539f2cc45b7b9fa7c272da2e1d7'}</td>\n",
       "      <td>0</td>\n",
       "      <td>NaN</td>\n",
       "      <td>0b1e1539f2cc45b7b9fa7c272da2e1d7</td>\n",
       "      <td>NaN</td>\n",
       "      <td>NaN</td>\n",
       "    </tr>\n",
       "    <tr>\n",
       "      <th>2</th>\n",
       "      <td>e2127556f4f64592b11af22de27a7932</td>\n",
       "      <td>offer received</td>\n",
       "      <td>{'offer id': '2906b810c7d4411798c6938adc9daaa5'}</td>\n",
       "      <td>0</td>\n",
       "      <td>3.0</td>\n",
       "      <td>2906b810c7d4411798c6938adc9daaa5</td>\n",
       "      <td>NaN</td>\n",
       "      <td>NaN</td>\n",
       "    </tr>\n",
       "    <tr>\n",
       "      <th>3</th>\n",
       "      <td>8ec6ce2a7e7949b1bf142def7d0e0586</td>\n",
       "      <td>offer received</td>\n",
       "      <td>{'offer id': 'fafdcd668e3743c1bb461111dcafc2a4'}</td>\n",
       "      <td>0</td>\n",
       "      <td>NaN</td>\n",
       "      <td>fafdcd668e3743c1bb461111dcafc2a4</td>\n",
       "      <td>NaN</td>\n",
       "      <td>NaN</td>\n",
       "    </tr>\n",
       "    <tr>\n",
       "      <th>4</th>\n",
       "      <td>68617ca6246f4fbc85e91a2a49552598</td>\n",
       "      <td>offer received</td>\n",
       "      <td>{'offer id': '4d5c57ea9a6940dd891ad53e9dbe8da0'}</td>\n",
       "      <td>0</td>\n",
       "      <td>NaN</td>\n",
       "      <td>4d5c57ea9a6940dd891ad53e9dbe8da0</td>\n",
       "      <td>NaN</td>\n",
       "      <td>NaN</td>\n",
       "    </tr>\n",
       "  </tbody>\n",
       "</table>\n",
       "</div>"
      ],
      "text/plain": [
       "                             person           event  \\\n",
       "0  78afa995795e4d85b5d9ceeca43f5fef  offer received   \n",
       "1  a03223e636434f42ac4c3df47e8bac43  offer received   \n",
       "2  e2127556f4f64592b11af22de27a7932  offer received   \n",
       "3  8ec6ce2a7e7949b1bf142def7d0e0586  offer received   \n",
       "4  68617ca6246f4fbc85e91a2a49552598  offer received   \n",
       "\n",
       "                                              value  time  customer_id  \\\n",
       "0  {'offer id': '9b98b8c7a33c4b65b9aebfe6a799e6d9'}     0          2.0   \n",
       "1  {'offer id': '0b1e1539f2cc45b7b9fa7c272da2e1d7'}     0          NaN   \n",
       "2  {'offer id': '2906b810c7d4411798c6938adc9daaa5'}     0          3.0   \n",
       "3  {'offer id': 'fafdcd668e3743c1bb461111dcafc2a4'}     0          NaN   \n",
       "4  {'offer id': '4d5c57ea9a6940dd891ad53e9dbe8da0'}     0          NaN   \n",
       "\n",
       "                    hashed_offer_id  reward  amount  \n",
       "0  9b98b8c7a33c4b65b9aebfe6a799e6d9     NaN     NaN  \n",
       "1  0b1e1539f2cc45b7b9fa7c272da2e1d7     NaN     NaN  \n",
       "2  2906b810c7d4411798c6938adc9daaa5     NaN     NaN  \n",
       "3  fafdcd668e3743c1bb461111dcafc2a4     NaN     NaN  \n",
       "4  4d5c57ea9a6940dd891ad53e9dbe8da0     NaN     NaN  "
      ]
     },
     "execution_count": 36,
     "metadata": {},
     "output_type": "execute_result"
    }
   ],
   "source": [
    "transcript.head()"
   ]
  },
  {
   "cell_type": "markdown",
   "metadata": {},
   "source": [
    "### 3.5 Drop the customer ids that have missing values\n",
    "The missing value occurs because this dataset contains abnormal customer id likewise the profile dataset. The missing value must be removed like profile dataset."
   ]
  },
  {
   "cell_type": "code",
   "execution_count": 44,
   "metadata": {},
   "outputs": [],
   "source": [
    "# Drop customer ids that is missing vale\n",
    "transcript.dropna(subset=['customer_id'], axis=0, inplace=True)\n",
    "\n",
    "# Reset index\n",
    "transcript.reset_index(drop=True, inplace=True)"
   ]
  },
  {
   "cell_type": "markdown",
   "metadata": {},
   "source": [
    "### 3.6 Dehash hashed offer id to readable id\n",
    "Map extracted hashed offer_id to readable offer_id"
   ]
  },
  {
   "cell_type": "code",
   "execution_count": 45,
   "metadata": {},
   "outputs": [],
   "source": [
    "# Map extracted hashed offer_id to readable offer_id\n",
    "transcript['offer_id'] = np.nan\n",
    "\n",
    "# Customer_id\n",
    "for idx, value in enumerate(transcript['hashed_offer_id']):\n",
    "    if value in offer_coded_dict:\n",
    "        transcript.loc[idx,'offer_id'] = offer_coded_dict[value]"
   ]
  },
  {
   "cell_type": "markdown",
   "metadata": {},
   "source": [
    "### 3.7 Rename columns"
   ]
  },
  {
   "cell_type": "code",
   "execution_count": 46,
   "metadata": {},
   "outputs": [],
   "source": [
    "# Rename\n",
    "cleaned_transcript = transcript.rename({'person': 'hashed_customer_id', 'value': 'dict_value'}, axis = 1)"
   ]
  },
  {
   "cell_type": "code",
   "execution_count": 47,
   "metadata": {},
   "outputs": [],
   "source": [
    "# Save dataset for further use to reduce debug time\n",
    "cleaned_transcript.to_csv('modified_transcript.csv', encoding='utf-8', index=False)"
   ]
  },
  {
   "cell_type": "code",
   "execution_count": 48,
   "metadata": {
    "scrolled": true
   },
   "outputs": [
    {
     "data": {
      "text/html": [
       "<div>\n",
       "<style scoped>\n",
       "    .dataframe tbody tr th:only-of-type {\n",
       "        vertical-align: middle;\n",
       "    }\n",
       "\n",
       "    .dataframe tbody tr th {\n",
       "        vertical-align: top;\n",
       "    }\n",
       "\n",
       "    .dataframe thead th {\n",
       "        text-align: right;\n",
       "    }\n",
       "</style>\n",
       "<table border=\"1\" class=\"dataframe\">\n",
       "  <thead>\n",
       "    <tr style=\"text-align: right;\">\n",
       "      <th></th>\n",
       "      <th>hashed_customer_id</th>\n",
       "      <th>event</th>\n",
       "      <th>dict_value</th>\n",
       "      <th>time</th>\n",
       "      <th>customer_id</th>\n",
       "      <th>hashed_offer_id</th>\n",
       "      <th>reward</th>\n",
       "      <th>amount</th>\n",
       "      <th>offer_id</th>\n",
       "    </tr>\n",
       "  </thead>\n",
       "  <tbody>\n",
       "    <tr>\n",
       "      <th>0</th>\n",
       "      <td>78afa995795e4d85b5d9ceeca43f5fef</td>\n",
       "      <td>offer received</td>\n",
       "      <td>{'offer id': '9b98b8c7a33c4b65b9aebfe6a799e6d9'}</td>\n",
       "      <td>0</td>\n",
       "      <td>2.0</td>\n",
       "      <td>9b98b8c7a33c4b65b9aebfe6a799e6d9</td>\n",
       "      <td>NaN</td>\n",
       "      <td>NaN</td>\n",
       "      <td>4.0</td>\n",
       "    </tr>\n",
       "    <tr>\n",
       "      <th>1</th>\n",
       "      <td>e2127556f4f64592b11af22de27a7932</td>\n",
       "      <td>offer received</td>\n",
       "      <td>{'offer id': '2906b810c7d4411798c6938adc9daaa5'}</td>\n",
       "      <td>0</td>\n",
       "      <td>3.0</td>\n",
       "      <td>2906b810c7d4411798c6938adc9daaa5</td>\n",
       "      <td>NaN</td>\n",
       "      <td>NaN</td>\n",
       "      <td>10.0</td>\n",
       "    </tr>\n",
       "    <tr>\n",
       "      <th>2</th>\n",
       "      <td>389bc3fa690240e798340f5a15918d5c</td>\n",
       "      <td>offer received</td>\n",
       "      <td>{'offer id': 'f19421c1d4aa40978ebb69ca19b0e20d'}</td>\n",
       "      <td>0</td>\n",
       "      <td>4.0</td>\n",
       "      <td>f19421c1d4aa40978ebb69ca19b0e20d</td>\n",
       "      <td>NaN</td>\n",
       "      <td>NaN</td>\n",
       "      <td>9.0</td>\n",
       "    </tr>\n",
       "    <tr>\n",
       "      <th>3</th>\n",
       "      <td>2eeac8d8feae4a8cad5a6af0499a211d</td>\n",
       "      <td>offer received</td>\n",
       "      <td>{'offer id': '3f207df678b143eea3cee63160fa8bed'}</td>\n",
       "      <td>0</td>\n",
       "      <td>5.0</td>\n",
       "      <td>3f207df678b143eea3cee63160fa8bed</td>\n",
       "      <td>NaN</td>\n",
       "      <td>NaN</td>\n",
       "      <td>3.0</td>\n",
       "    </tr>\n",
       "    <tr>\n",
       "      <th>4</th>\n",
       "      <td>aa4862eba776480b8bb9c68455b8c2e1</td>\n",
       "      <td>offer received</td>\n",
       "      <td>{'offer id': '0b1e1539f2cc45b7b9fa7c272da2e1d7'}</td>\n",
       "      <td>0</td>\n",
       "      <td>6.0</td>\n",
       "      <td>0b1e1539f2cc45b7b9fa7c272da2e1d7</td>\n",
       "      <td>NaN</td>\n",
       "      <td>NaN</td>\n",
       "      <td>5.0</td>\n",
       "    </tr>\n",
       "  </tbody>\n",
       "</table>\n",
       "</div>"
      ],
      "text/plain": [
       "                 hashed_customer_id           event  \\\n",
       "0  78afa995795e4d85b5d9ceeca43f5fef  offer received   \n",
       "1  e2127556f4f64592b11af22de27a7932  offer received   \n",
       "2  389bc3fa690240e798340f5a15918d5c  offer received   \n",
       "3  2eeac8d8feae4a8cad5a6af0499a211d  offer received   \n",
       "4  aa4862eba776480b8bb9c68455b8c2e1  offer received   \n",
       "\n",
       "                                         dict_value  time  customer_id  \\\n",
       "0  {'offer id': '9b98b8c7a33c4b65b9aebfe6a799e6d9'}     0          2.0   \n",
       "1  {'offer id': '2906b810c7d4411798c6938adc9daaa5'}     0          3.0   \n",
       "2  {'offer id': 'f19421c1d4aa40978ebb69ca19b0e20d'}     0          4.0   \n",
       "3  {'offer id': '3f207df678b143eea3cee63160fa8bed'}     0          5.0   \n",
       "4  {'offer id': '0b1e1539f2cc45b7b9fa7c272da2e1d7'}     0          6.0   \n",
       "\n",
       "                    hashed_offer_id  reward  amount  offer_id  \n",
       "0  9b98b8c7a33c4b65b9aebfe6a799e6d9     NaN     NaN       4.0  \n",
       "1  2906b810c7d4411798c6938adc9daaa5     NaN     NaN      10.0  \n",
       "2  f19421c1d4aa40978ebb69ca19b0e20d     NaN     NaN       9.0  \n",
       "3  3f207df678b143eea3cee63160fa8bed     NaN     NaN       3.0  \n",
       "4  0b1e1539f2cc45b7b9fa7c272da2e1d7     NaN     NaN       5.0  "
      ]
     },
     "execution_count": 48,
     "metadata": {},
     "output_type": "execute_result"
    }
   ],
   "source": [
    "# Load saved dataset\n",
    "df_transcript = pd.read_csv('modified_transcript.csv')\n",
    "df_transcript.head()"
   ]
  },
  {
   "cell_type": "markdown",
   "metadata": {},
   "source": [
    "## 4. Build training dataset \n",
    "Build training dataset from three datasets from cleaned datasets above "
   ]
  },
  {
   "cell_type": "markdown",
   "metadata": {},
   "source": [
    "## Find the offer that customer responds.\n",
    "- Offers are responded when customer both viewed and completed the offer."
   ]
  },
  {
   "cell_type": "markdown",
   "metadata": {},
   "source": [
    "### 4.1 Select non-transaction events"
   ]
  },
  {
   "cell_type": "code",
   "execution_count": 49,
   "metadata": {},
   "outputs": [
    {
     "data": {
      "text/html": [
       "<div>\n",
       "<style scoped>\n",
       "    .dataframe tbody tr th:only-of-type {\n",
       "        vertical-align: middle;\n",
       "    }\n",
       "\n",
       "    .dataframe tbody tr th {\n",
       "        vertical-align: top;\n",
       "    }\n",
       "\n",
       "    .dataframe thead th {\n",
       "        text-align: right;\n",
       "    }\n",
       "</style>\n",
       "<table border=\"1\" class=\"dataframe\">\n",
       "  <thead>\n",
       "    <tr style=\"text-align: right;\">\n",
       "      <th></th>\n",
       "      <th>hashed_customer_id</th>\n",
       "      <th>event</th>\n",
       "      <th>dict_value</th>\n",
       "      <th>time</th>\n",
       "      <th>customer_id</th>\n",
       "      <th>hashed_offer_id</th>\n",
       "      <th>reward</th>\n",
       "      <th>offer_id</th>\n",
       "    </tr>\n",
       "  </thead>\n",
       "  <tbody>\n",
       "    <tr>\n",
       "      <th>0</th>\n",
       "      <td>78afa995795e4d85b5d9ceeca43f5fef</td>\n",
       "      <td>offer received</td>\n",
       "      <td>{'offer id': '9b98b8c7a33c4b65b9aebfe6a799e6d9'}</td>\n",
       "      <td>0</td>\n",
       "      <td>2.0</td>\n",
       "      <td>9b98b8c7a33c4b65b9aebfe6a799e6d9</td>\n",
       "      <td>NaN</td>\n",
       "      <td>4.0</td>\n",
       "    </tr>\n",
       "    <tr>\n",
       "      <th>1</th>\n",
       "      <td>e2127556f4f64592b11af22de27a7932</td>\n",
       "      <td>offer received</td>\n",
       "      <td>{'offer id': '2906b810c7d4411798c6938adc9daaa5'}</td>\n",
       "      <td>0</td>\n",
       "      <td>3.0</td>\n",
       "      <td>2906b810c7d4411798c6938adc9daaa5</td>\n",
       "      <td>NaN</td>\n",
       "      <td>10.0</td>\n",
       "    </tr>\n",
       "    <tr>\n",
       "      <th>2</th>\n",
       "      <td>389bc3fa690240e798340f5a15918d5c</td>\n",
       "      <td>offer received</td>\n",
       "      <td>{'offer id': 'f19421c1d4aa40978ebb69ca19b0e20d'}</td>\n",
       "      <td>0</td>\n",
       "      <td>4.0</td>\n",
       "      <td>f19421c1d4aa40978ebb69ca19b0e20d</td>\n",
       "      <td>NaN</td>\n",
       "      <td>9.0</td>\n",
       "    </tr>\n",
       "    <tr>\n",
       "      <th>3</th>\n",
       "      <td>2eeac8d8feae4a8cad5a6af0499a211d</td>\n",
       "      <td>offer received</td>\n",
       "      <td>{'offer id': '3f207df678b143eea3cee63160fa8bed'}</td>\n",
       "      <td>0</td>\n",
       "      <td>5.0</td>\n",
       "      <td>3f207df678b143eea3cee63160fa8bed</td>\n",
       "      <td>NaN</td>\n",
       "      <td>3.0</td>\n",
       "    </tr>\n",
       "    <tr>\n",
       "      <th>4</th>\n",
       "      <td>aa4862eba776480b8bb9c68455b8c2e1</td>\n",
       "      <td>offer received</td>\n",
       "      <td>{'offer id': '0b1e1539f2cc45b7b9fa7c272da2e1d7'}</td>\n",
       "      <td>0</td>\n",
       "      <td>6.0</td>\n",
       "      <td>0b1e1539f2cc45b7b9fa7c272da2e1d7</td>\n",
       "      <td>NaN</td>\n",
       "      <td>5.0</td>\n",
       "    </tr>\n",
       "  </tbody>\n",
       "</table>\n",
       "</div>"
      ],
      "text/plain": [
       "                 hashed_customer_id           event  \\\n",
       "0  78afa995795e4d85b5d9ceeca43f5fef  offer received   \n",
       "1  e2127556f4f64592b11af22de27a7932  offer received   \n",
       "2  389bc3fa690240e798340f5a15918d5c  offer received   \n",
       "3  2eeac8d8feae4a8cad5a6af0499a211d  offer received   \n",
       "4  aa4862eba776480b8bb9c68455b8c2e1  offer received   \n",
       "\n",
       "                                         dict_value  time  customer_id  \\\n",
       "0  {'offer id': '9b98b8c7a33c4b65b9aebfe6a799e6d9'}     0          2.0   \n",
       "1  {'offer id': '2906b810c7d4411798c6938adc9daaa5'}     0          3.0   \n",
       "2  {'offer id': 'f19421c1d4aa40978ebb69ca19b0e20d'}     0          4.0   \n",
       "3  {'offer id': '3f207df678b143eea3cee63160fa8bed'}     0          5.0   \n",
       "4  {'offer id': '0b1e1539f2cc45b7b9fa7c272da2e1d7'}     0          6.0   \n",
       "\n",
       "                    hashed_offer_id  reward  offer_id  \n",
       "0  9b98b8c7a33c4b65b9aebfe6a799e6d9     NaN       4.0  \n",
       "1  2906b810c7d4411798c6938adc9daaa5     NaN      10.0  \n",
       "2  f19421c1d4aa40978ebb69ca19b0e20d     NaN       9.0  \n",
       "3  3f207df678b143eea3cee63160fa8bed     NaN       3.0  \n",
       "4  0b1e1539f2cc45b7b9fa7c272da2e1d7     NaN       5.0  "
      ]
     },
     "execution_count": 49,
     "metadata": {},
     "output_type": "execute_result"
    }
   ],
   "source": [
    "# Fetch the non-transaction events\n",
    "offer_transcript = cleaned_transcript[cleaned_transcript['event'] != 'transaction'].drop('amount', axis=1)\n",
    "# Reset index after drop the transaction event\n",
    "offer_transcript.reset_index(drop=True, inplace=True)\n",
    "offer_transcript.head()"
   ]
  },
  {
   "cell_type": "markdown",
   "metadata": {},
   "source": [
    "### 4.2 Build dictionaries\n",
    "- responsed_dict: The dictionary between customer_id and the list of responsed offer\n",
    "- offer_dict: The dictionary between customer_id and the list of viewed offer"
   ]
  },
  {
   "cell_type": "code",
   "execution_count": 50,
   "metadata": {},
   "outputs": [],
   "source": [
    "# Sort the offers by customer_id and time, sequentially\n",
    "sorted_offers = offer_transcript.sort_values(by=['customer_id','time'])\n",
    "\n",
    "# Create unique customer id to iterate a for loop\n",
    "unique_custid = sorted_offers['customer_id'].astype(int).unique()\n",
    "\n",
    "# The dictionaries that match between the customer id and the list of offer ids\n",
    "responsed_dict = dict() \n",
    "offer_dict = dict() \n",
    "\n",
    "for custid in unique_custid:\n",
    "    received_offer = []\n",
    "    track_viewed_offer = []\n",
    "    responsed_offer = []\n",
    "    \n",
    "    # Select dataframe of specific customer id\n",
    "    df_offers = offer_transcript[offer_transcript['customer_id'] == custid]\n",
    "    df_offers.reset_index(drop=True,inplace=True)\n",
    "    \n",
    "    for idx, event in enumerate(df_offers['event']):\n",
    "        if event == 'offer received':\n",
    "            # Store the recieved offer\n",
    "            received_offer.append(df_offers.loc[idx, 'offer_id'])\n",
    "        elif event == 'offer viewed':\n",
    "            # if offer is not in track_viewed_offer add it\n",
    "            if not df_offers.loc[idx, 'offer_id'] in track_viewed_offer:\n",
    "                track_viewed_offer.append(df_offers.loc[idx, 'offer_id'])\n",
    "        elif event == 'offer completed':\n",
    "            # Offer are responded when customer both view the offer and then completed offer\n",
    "            if df_offers.loc[idx, 'offer_id'] in track_viewed_offer:\n",
    "                responsed_offer.append(df_offers.loc[idx, 'offer_id'])\n",
    "                track_viewed_offer.remove(df_offers.loc[idx, 'offer_id'])\n",
    "                \n",
    "    # Create dictionaries for current customer_id\n",
    "    responsed_dict[custid] = responsed_offer # the offers that are responsed by current customer id\n",
    "    offer_dict[custid] = received_offer # the offers that give to current customer id "
   ]
  },
  {
   "cell_type": "markdown",
   "metadata": {},
   "source": [
    "### 4.3 Create a training dataset by using the dictionaries above"
   ]
  },
  {
   "cell_type": "code",
   "execution_count": 51,
   "metadata": {},
   "outputs": [
    {
     "data": {
      "text/plain": [
       "{1: [], 2: [4.0, 1.0], 3: [4.0, 7.0], 4: [9.0, 10.0, 4.0, 9.0, 7.0], 5: [7.0]}"
      ]
     },
     "execution_count": 51,
     "metadata": {},
     "output_type": "execute_result"
    }
   ],
   "source": [
    "# Check the responsed_dict\n",
    "dict(list(responsed_dict.items())[:5])"
   ]
  },
  {
   "cell_type": "code",
   "execution_count": 52,
   "metadata": {},
   "outputs": [
    {
     "data": {
      "text/plain": [
       "{1: [4.0, 3.0],\n",
       " 2: [4.0, 8.0, 1.0, 9.0],\n",
       " 3: [10.0, 3.0, 4.0, 7.0],\n",
       " 4: [9.0, 4.0, 10.0, 4.0, 9.0, 7.0],\n",
       " 5: [3.0, 6.0, 7.0]}"
      ]
     },
     "execution_count": 52,
     "metadata": {},
     "output_type": "execute_result"
    }
   ],
   "source": [
    "# Check the offer_dict\n",
    "dict(list(offer_dict.items())[:5])"
   ]
  },
  {
   "cell_type": "code",
   "execution_count": 53,
   "metadata": {},
   "outputs": [
    {
     "data": {
      "text/html": [
       "<div>\n",
       "<style scoped>\n",
       "    .dataframe tbody tr th:only-of-type {\n",
       "        vertical-align: middle;\n",
       "    }\n",
       "\n",
       "    .dataframe tbody tr th {\n",
       "        vertical-align: top;\n",
       "    }\n",
       "\n",
       "    .dataframe thead th {\n",
       "        text-align: right;\n",
       "    }\n",
       "</style>\n",
       "<table border=\"1\" class=\"dataframe\">\n",
       "  <thead>\n",
       "    <tr style=\"text-align: right;\">\n",
       "      <th></th>\n",
       "      <th>gender</th>\n",
       "      <th>age</th>\n",
       "      <th>hash_customer_id</th>\n",
       "      <th>became_member_on</th>\n",
       "      <th>income</th>\n",
       "      <th>customer_id</th>\n",
       "      <th>response</th>\n",
       "      <th>reward</th>\n",
       "      <th>channels</th>\n",
       "      <th>difficulty</th>\n",
       "      <th>duration</th>\n",
       "      <th>offer_type</th>\n",
       "      <th>hashed_offer_id</th>\n",
       "      <th>offer_id</th>\n",
       "      <th>email</th>\n",
       "      <th>mobile</th>\n",
       "      <th>social</th>\n",
       "      <th>web</th>\n",
       "    </tr>\n",
       "  </thead>\n",
       "  <tbody>\n",
       "    <tr>\n",
       "      <th>0</th>\n",
       "      <td>F</td>\n",
       "      <td>55</td>\n",
       "      <td>0610b486422d4921ae7d2bf64640c50b</td>\n",
       "      <td>2017-07-15</td>\n",
       "      <td>112000.0</td>\n",
       "      <td>1</td>\n",
       "      <td>0.0</td>\n",
       "      <td>5</td>\n",
       "      <td>[web, email, mobile]</td>\n",
       "      <td>5</td>\n",
       "      <td>7</td>\n",
       "      <td>bogo</td>\n",
       "      <td>9b98b8c7a33c4b65b9aebfe6a799e6d9</td>\n",
       "      <td>4</td>\n",
       "      <td>1</td>\n",
       "      <td>1</td>\n",
       "      <td>0</td>\n",
       "      <td>1</td>\n",
       "    </tr>\n",
       "    <tr>\n",
       "      <th>1</th>\n",
       "      <td>F</td>\n",
       "      <td>55</td>\n",
       "      <td>0610b486422d4921ae7d2bf64640c50b</td>\n",
       "      <td>2017-07-15</td>\n",
       "      <td>112000.0</td>\n",
       "      <td>1</td>\n",
       "      <td>0.0</td>\n",
       "      <td>0</td>\n",
       "      <td>[web, email, mobile]</td>\n",
       "      <td>0</td>\n",
       "      <td>4</td>\n",
       "      <td>informational</td>\n",
       "      <td>3f207df678b143eea3cee63160fa8bed</td>\n",
       "      <td>3</td>\n",
       "      <td>1</td>\n",
       "      <td>1</td>\n",
       "      <td>0</td>\n",
       "      <td>1</td>\n",
       "    </tr>\n",
       "    <tr>\n",
       "      <th>2</th>\n",
       "      <td>F</td>\n",
       "      <td>75</td>\n",
       "      <td>78afa995795e4d85b5d9ceeca43f5fef</td>\n",
       "      <td>2017-05-09</td>\n",
       "      <td>100000.0</td>\n",
       "      <td>2</td>\n",
       "      <td>1.0</td>\n",
       "      <td>5</td>\n",
       "      <td>[web, email, mobile]</td>\n",
       "      <td>5</td>\n",
       "      <td>7</td>\n",
       "      <td>bogo</td>\n",
       "      <td>9b98b8c7a33c4b65b9aebfe6a799e6d9</td>\n",
       "      <td>4</td>\n",
       "      <td>1</td>\n",
       "      <td>1</td>\n",
       "      <td>0</td>\n",
       "      <td>1</td>\n",
       "    </tr>\n",
       "    <tr>\n",
       "      <th>3</th>\n",
       "      <td>F</td>\n",
       "      <td>75</td>\n",
       "      <td>78afa995795e4d85b5d9ceeca43f5fef</td>\n",
       "      <td>2017-05-09</td>\n",
       "      <td>100000.0</td>\n",
       "      <td>2</td>\n",
       "      <td>0.0</td>\n",
       "      <td>0</td>\n",
       "      <td>[email, mobile, social]</td>\n",
       "      <td>0</td>\n",
       "      <td>3</td>\n",
       "      <td>informational</td>\n",
       "      <td>5a8bc65990b245e5a138643cd4eb9837</td>\n",
       "      <td>8</td>\n",
       "      <td>1</td>\n",
       "      <td>1</td>\n",
       "      <td>1</td>\n",
       "      <td>0</td>\n",
       "    </tr>\n",
       "    <tr>\n",
       "      <th>4</th>\n",
       "      <td>F</td>\n",
       "      <td>75</td>\n",
       "      <td>78afa995795e4d85b5d9ceeca43f5fef</td>\n",
       "      <td>2017-05-09</td>\n",
       "      <td>100000.0</td>\n",
       "      <td>2</td>\n",
       "      <td>1.0</td>\n",
       "      <td>10</td>\n",
       "      <td>[email, mobile, social]</td>\n",
       "      <td>10</td>\n",
       "      <td>7</td>\n",
       "      <td>bogo</td>\n",
       "      <td>ae264e3637204a6fb9bb56bc8210ddfd</td>\n",
       "      <td>1</td>\n",
       "      <td>1</td>\n",
       "      <td>1</td>\n",
       "      <td>1</td>\n",
       "      <td>0</td>\n",
       "    </tr>\n",
       "  </tbody>\n",
       "</table>\n",
       "</div>"
      ],
      "text/plain": [
       "  gender  age                  hash_customer_id became_member_on    income  \\\n",
       "0      F   55  0610b486422d4921ae7d2bf64640c50b       2017-07-15  112000.0   \n",
       "1      F   55  0610b486422d4921ae7d2bf64640c50b       2017-07-15  112000.0   \n",
       "2      F   75  78afa995795e4d85b5d9ceeca43f5fef       2017-05-09  100000.0   \n",
       "3      F   75  78afa995795e4d85b5d9ceeca43f5fef       2017-05-09  100000.0   \n",
       "4      F   75  78afa995795e4d85b5d9ceeca43f5fef       2017-05-09  100000.0   \n",
       "\n",
       "   customer_id  response  reward                 channels  difficulty  \\\n",
       "0            1       0.0       5     [web, email, mobile]           5   \n",
       "1            1       0.0       0     [web, email, mobile]           0   \n",
       "2            2       1.0       5     [web, email, mobile]           5   \n",
       "3            2       0.0       0  [email, mobile, social]           0   \n",
       "4            2       1.0      10  [email, mobile, social]          10   \n",
       "\n",
       "   duration     offer_type                   hashed_offer_id  offer_id  email  \\\n",
       "0         7           bogo  9b98b8c7a33c4b65b9aebfe6a799e6d9         4      1   \n",
       "1         4  informational  3f207df678b143eea3cee63160fa8bed         3      1   \n",
       "2         7           bogo  9b98b8c7a33c4b65b9aebfe6a799e6d9         4      1   \n",
       "3         3  informational  5a8bc65990b245e5a138643cd4eb9837         8      1   \n",
       "4         7           bogo  ae264e3637204a6fb9bb56bc8210ddfd         1      1   \n",
       "\n",
       "   mobile  social  web  \n",
       "0       1       0    1  \n",
       "1       1       0    1  \n",
       "2       1       0    1  \n",
       "3       1       1    0  \n",
       "4       1       1    0  "
      ]
     },
     "execution_count": 53,
     "metadata": {},
     "output_type": "execute_result"
    }
   ],
   "source": [
    "# Create response (target) columns by dictionaries above then merge datasets\n",
    "cleaned_profile['response'] = np.nan\n",
    "\n",
    "#The number of offer\n",
    "num=0\n",
    "\n",
    "# For each customer id \n",
    "for custid in offer_dict:\n",
    "    for offer_id in offer_dict[custid]:\n",
    "        # Select profile dataset that has customer id ...\n",
    "        df_profile = cleaned_profile[cleaned_profile['customer_id'] == custid].reset_index(drop=True)\n",
    "        df_portfolio = cleaned_portfolio[cleaned_portfolio['offer_id'] == offer_id].reset_index(drop=True)\n",
    "        if num==0:\n",
    "            features = pd.concat([df_profile,df_portfolio], axis=1)\n",
    "        else:\n",
    "            new_features = pd.concat([df_profile,df_portfolio], axis=1)\n",
    "            features = pd.concat([features,new_features], axis=0).reset_index(drop=True)\n",
    "        # Assign response or not response to column\n",
    "        if offer_id in responsed_dict[custid]:\n",
    "            features.loc[num, 'response'] = 1\n",
    "        else:\n",
    "            #print(i)\n",
    "            features.loc[num, 'response'] = 0\n",
    "        num+=1\n",
    "features.head()"
   ]
  },
  {
   "cell_type": "code",
   "execution_count": 1,
   "metadata": {},
   "outputs": [
    {
     "ename": "NameError",
     "evalue": "name 'features' is not defined",
     "output_type": "error",
     "traceback": [
      "\u001b[0;31m---------------------------------------------------------------------------\u001b[0m",
      "\u001b[0;31mNameError\u001b[0m                                 Traceback (most recent call last)",
      "\u001b[0;32m<ipython-input-1-d93f286679b3>\u001b[0m in \u001b[0;36m<module>\u001b[0;34m\u001b[0m\n\u001b[1;32m      1\u001b[0m \u001b[0;31m# Save the dataset to reduce debug time\u001b[0m\u001b[0;34m\u001b[0m\u001b[0;34m\u001b[0m\u001b[0;34m\u001b[0m\u001b[0m\n\u001b[0;32m----> 2\u001b[0;31m \u001b[0mfeatures\u001b[0m\u001b[0;34m.\u001b[0m\u001b[0mto_csv\u001b[0m\u001b[0;34m(\u001b[0m\u001b[0;34m'features.csv'\u001b[0m\u001b[0;34m,\u001b[0m \u001b[0mencoding\u001b[0m\u001b[0;34m=\u001b[0m\u001b[0;34m'utf-8'\u001b[0m\u001b[0;34m,\u001b[0m \u001b[0mindex\u001b[0m\u001b[0;34m=\u001b[0m\u001b[0;32mFalse\u001b[0m\u001b[0;34m)\u001b[0m\u001b[0;34m\u001b[0m\u001b[0;34m\u001b[0m\u001b[0m\n\u001b[0m",
      "\u001b[0;31mNameError\u001b[0m: name 'features' is not defined"
     ]
    }
   ],
   "source": [
    "# Save the dataset to reduce debug time\n",
    "features.to_csv('features.csv', encoding='utf-8', index=False)"
   ]
  },
  {
   "cell_type": "code",
   "execution_count": 5,
   "metadata": {},
   "outputs": [
    {
     "data": {
      "text/html": [
       "<div>\n",
       "<style scoped>\n",
       "    .dataframe tbody tr th:only-of-type {\n",
       "        vertical-align: middle;\n",
       "    }\n",
       "\n",
       "    .dataframe tbody tr th {\n",
       "        vertical-align: top;\n",
       "    }\n",
       "\n",
       "    .dataframe thead th {\n",
       "        text-align: right;\n",
       "    }\n",
       "</style>\n",
       "<table border=\"1\" class=\"dataframe\">\n",
       "  <thead>\n",
       "    <tr style=\"text-align: right;\">\n",
       "      <th></th>\n",
       "      <th>gender</th>\n",
       "      <th>age</th>\n",
       "      <th>hash_customer_id</th>\n",
       "      <th>became_member_on</th>\n",
       "      <th>income</th>\n",
       "      <th>customer_id</th>\n",
       "      <th>response</th>\n",
       "      <th>reward</th>\n",
       "      <th>channels</th>\n",
       "      <th>difficulty</th>\n",
       "      <th>duration</th>\n",
       "      <th>offer_type</th>\n",
       "      <th>hashed_offer_id</th>\n",
       "      <th>offer_id</th>\n",
       "      <th>email</th>\n",
       "      <th>mobile</th>\n",
       "      <th>social</th>\n",
       "      <th>web</th>\n",
       "    </tr>\n",
       "  </thead>\n",
       "  <tbody>\n",
       "    <tr>\n",
       "      <th>0</th>\n",
       "      <td>F</td>\n",
       "      <td>55</td>\n",
       "      <td>0610b486422d4921ae7d2bf64640c50b</td>\n",
       "      <td>2017-07-15</td>\n",
       "      <td>112000.0</td>\n",
       "      <td>1</td>\n",
       "      <td>0.0</td>\n",
       "      <td>5</td>\n",
       "      <td>['web', 'email', 'mobile']</td>\n",
       "      <td>5</td>\n",
       "      <td>7</td>\n",
       "      <td>bogo</td>\n",
       "      <td>9b98b8c7a33c4b65b9aebfe6a799e6d9</td>\n",
       "      <td>4</td>\n",
       "      <td>1</td>\n",
       "      <td>1</td>\n",
       "      <td>0</td>\n",
       "      <td>1</td>\n",
       "    </tr>\n",
       "    <tr>\n",
       "      <th>1</th>\n",
       "      <td>F</td>\n",
       "      <td>55</td>\n",
       "      <td>0610b486422d4921ae7d2bf64640c50b</td>\n",
       "      <td>2017-07-15</td>\n",
       "      <td>112000.0</td>\n",
       "      <td>1</td>\n",
       "      <td>0.0</td>\n",
       "      <td>0</td>\n",
       "      <td>['web', 'email', 'mobile']</td>\n",
       "      <td>0</td>\n",
       "      <td>4</td>\n",
       "      <td>informational</td>\n",
       "      <td>3f207df678b143eea3cee63160fa8bed</td>\n",
       "      <td>3</td>\n",
       "      <td>1</td>\n",
       "      <td>1</td>\n",
       "      <td>0</td>\n",
       "      <td>1</td>\n",
       "    </tr>\n",
       "    <tr>\n",
       "      <th>2</th>\n",
       "      <td>F</td>\n",
       "      <td>75</td>\n",
       "      <td>78afa995795e4d85b5d9ceeca43f5fef</td>\n",
       "      <td>2017-05-09</td>\n",
       "      <td>100000.0</td>\n",
       "      <td>2</td>\n",
       "      <td>1.0</td>\n",
       "      <td>5</td>\n",
       "      <td>['web', 'email', 'mobile']</td>\n",
       "      <td>5</td>\n",
       "      <td>7</td>\n",
       "      <td>bogo</td>\n",
       "      <td>9b98b8c7a33c4b65b9aebfe6a799e6d9</td>\n",
       "      <td>4</td>\n",
       "      <td>1</td>\n",
       "      <td>1</td>\n",
       "      <td>0</td>\n",
       "      <td>1</td>\n",
       "    </tr>\n",
       "    <tr>\n",
       "      <th>3</th>\n",
       "      <td>F</td>\n",
       "      <td>75</td>\n",
       "      <td>78afa995795e4d85b5d9ceeca43f5fef</td>\n",
       "      <td>2017-05-09</td>\n",
       "      <td>100000.0</td>\n",
       "      <td>2</td>\n",
       "      <td>0.0</td>\n",
       "      <td>0</td>\n",
       "      <td>['email', 'mobile', 'social']</td>\n",
       "      <td>0</td>\n",
       "      <td>3</td>\n",
       "      <td>informational</td>\n",
       "      <td>5a8bc65990b245e5a138643cd4eb9837</td>\n",
       "      <td>8</td>\n",
       "      <td>1</td>\n",
       "      <td>1</td>\n",
       "      <td>1</td>\n",
       "      <td>0</td>\n",
       "    </tr>\n",
       "    <tr>\n",
       "      <th>4</th>\n",
       "      <td>F</td>\n",
       "      <td>75</td>\n",
       "      <td>78afa995795e4d85b5d9ceeca43f5fef</td>\n",
       "      <td>2017-05-09</td>\n",
       "      <td>100000.0</td>\n",
       "      <td>2</td>\n",
       "      <td>1.0</td>\n",
       "      <td>10</td>\n",
       "      <td>['email', 'mobile', 'social']</td>\n",
       "      <td>10</td>\n",
       "      <td>7</td>\n",
       "      <td>bogo</td>\n",
       "      <td>ae264e3637204a6fb9bb56bc8210ddfd</td>\n",
       "      <td>1</td>\n",
       "      <td>1</td>\n",
       "      <td>1</td>\n",
       "      <td>1</td>\n",
       "      <td>0</td>\n",
       "    </tr>\n",
       "  </tbody>\n",
       "</table>\n",
       "</div>"
      ],
      "text/plain": [
       "  gender  age                  hash_customer_id became_member_on    income  \\\n",
       "0      F   55  0610b486422d4921ae7d2bf64640c50b       2017-07-15  112000.0   \n",
       "1      F   55  0610b486422d4921ae7d2bf64640c50b       2017-07-15  112000.0   \n",
       "2      F   75  78afa995795e4d85b5d9ceeca43f5fef       2017-05-09  100000.0   \n",
       "3      F   75  78afa995795e4d85b5d9ceeca43f5fef       2017-05-09  100000.0   \n",
       "4      F   75  78afa995795e4d85b5d9ceeca43f5fef       2017-05-09  100000.0   \n",
       "\n",
       "   customer_id  response  reward                       channels  difficulty  \\\n",
       "0            1       0.0       5     ['web', 'email', 'mobile']           5   \n",
       "1            1       0.0       0     ['web', 'email', 'mobile']           0   \n",
       "2            2       1.0       5     ['web', 'email', 'mobile']           5   \n",
       "3            2       0.0       0  ['email', 'mobile', 'social']           0   \n",
       "4            2       1.0      10  ['email', 'mobile', 'social']          10   \n",
       "\n",
       "   duration     offer_type                   hashed_offer_id  offer_id  email  \\\n",
       "0         7           bogo  9b98b8c7a33c4b65b9aebfe6a799e6d9         4      1   \n",
       "1         4  informational  3f207df678b143eea3cee63160fa8bed         3      1   \n",
       "2         7           bogo  9b98b8c7a33c4b65b9aebfe6a799e6d9         4      1   \n",
       "3         3  informational  5a8bc65990b245e5a138643cd4eb9837         8      1   \n",
       "4         7           bogo  ae264e3637204a6fb9bb56bc8210ddfd         1      1   \n",
       "\n",
       "   mobile  social  web  \n",
       "0       1       0    1  \n",
       "1       1       0    1  \n",
       "2       1       0    1  \n",
       "3       1       1    0  \n",
       "4       1       1    0  "
      ]
     },
     "execution_count": 5,
     "metadata": {},
     "output_type": "execute_result"
    }
   ],
   "source": [
    "# Load the saved dataset\n",
    "df_features = pd.read_csv('features.csv')\n",
    "df_features.head()"
   ]
  },
  {
   "cell_type": "markdown",
   "metadata": {},
   "source": [
    "## 5. Clean training dataset"
   ]
  },
  {
   "cell_type": "markdown",
   "metadata": {},
   "source": [
    "### 5.1 Drop unused columns\n",
    "- channels: JSON format doesn't provide useful information.\n",
    "- hashed_offer_id: Duplicates with offer_id hashed value.\n",
    "- id columns: Not provide a meaningful analysis.\n",
    "- became_member_on: Doesn't use to analysis"
   ]
  },
  {
   "cell_type": "code",
   "execution_count": 6,
   "metadata": {
    "scrolled": false
   },
   "outputs": [
    {
     "data": {
      "text/html": [
       "<div>\n",
       "<style scoped>\n",
       "    .dataframe tbody tr th:only-of-type {\n",
       "        vertical-align: middle;\n",
       "    }\n",
       "\n",
       "    .dataframe tbody tr th {\n",
       "        vertical-align: top;\n",
       "    }\n",
       "\n",
       "    .dataframe thead th {\n",
       "        text-align: right;\n",
       "    }\n",
       "</style>\n",
       "<table border=\"1\" class=\"dataframe\">\n",
       "  <thead>\n",
       "    <tr style=\"text-align: right;\">\n",
       "      <th></th>\n",
       "      <th>gender</th>\n",
       "      <th>age</th>\n",
       "      <th>income</th>\n",
       "      <th>reward</th>\n",
       "      <th>difficulty</th>\n",
       "      <th>duration</th>\n",
       "      <th>offer_type</th>\n",
       "      <th>email</th>\n",
       "      <th>mobile</th>\n",
       "      <th>social</th>\n",
       "      <th>web</th>\n",
       "      <th>response</th>\n",
       "    </tr>\n",
       "  </thead>\n",
       "  <tbody>\n",
       "    <tr>\n",
       "      <th>0</th>\n",
       "      <td>F</td>\n",
       "      <td>55</td>\n",
       "      <td>112000.0</td>\n",
       "      <td>5</td>\n",
       "      <td>5</td>\n",
       "      <td>7</td>\n",
       "      <td>bogo</td>\n",
       "      <td>1</td>\n",
       "      <td>1</td>\n",
       "      <td>0</td>\n",
       "      <td>1</td>\n",
       "      <td>0.0</td>\n",
       "    </tr>\n",
       "    <tr>\n",
       "      <th>1</th>\n",
       "      <td>F</td>\n",
       "      <td>55</td>\n",
       "      <td>112000.0</td>\n",
       "      <td>0</td>\n",
       "      <td>0</td>\n",
       "      <td>4</td>\n",
       "      <td>informational</td>\n",
       "      <td>1</td>\n",
       "      <td>1</td>\n",
       "      <td>0</td>\n",
       "      <td>1</td>\n",
       "      <td>0.0</td>\n",
       "    </tr>\n",
       "    <tr>\n",
       "      <th>2</th>\n",
       "      <td>F</td>\n",
       "      <td>75</td>\n",
       "      <td>100000.0</td>\n",
       "      <td>5</td>\n",
       "      <td>5</td>\n",
       "      <td>7</td>\n",
       "      <td>bogo</td>\n",
       "      <td>1</td>\n",
       "      <td>1</td>\n",
       "      <td>0</td>\n",
       "      <td>1</td>\n",
       "      <td>1.0</td>\n",
       "    </tr>\n",
       "    <tr>\n",
       "      <th>3</th>\n",
       "      <td>F</td>\n",
       "      <td>75</td>\n",
       "      <td>100000.0</td>\n",
       "      <td>0</td>\n",
       "      <td>0</td>\n",
       "      <td>3</td>\n",
       "      <td>informational</td>\n",
       "      <td>1</td>\n",
       "      <td>1</td>\n",
       "      <td>1</td>\n",
       "      <td>0</td>\n",
       "      <td>0.0</td>\n",
       "    </tr>\n",
       "    <tr>\n",
       "      <th>4</th>\n",
       "      <td>F</td>\n",
       "      <td>75</td>\n",
       "      <td>100000.0</td>\n",
       "      <td>10</td>\n",
       "      <td>10</td>\n",
       "      <td>7</td>\n",
       "      <td>bogo</td>\n",
       "      <td>1</td>\n",
       "      <td>1</td>\n",
       "      <td>1</td>\n",
       "      <td>0</td>\n",
       "      <td>1.0</td>\n",
       "    </tr>\n",
       "  </tbody>\n",
       "</table>\n",
       "</div>"
      ],
      "text/plain": [
       "  gender  age    income  reward  difficulty  duration     offer_type  email  \\\n",
       "0      F   55  112000.0       5           5         7           bogo      1   \n",
       "1      F   55  112000.0       0           0         4  informational      1   \n",
       "2      F   75  100000.0       5           5         7           bogo      1   \n",
       "3      F   75  100000.0       0           0         3  informational      1   \n",
       "4      F   75  100000.0      10          10         7           bogo      1   \n",
       "\n",
       "   mobile  social  web  response  \n",
       "0       1       0    1       0.0  \n",
       "1       1       0    1       0.0  \n",
       "2       1       0    1       1.0  \n",
       "3       1       1    0       0.0  \n",
       "4       1       1    0       1.0  "
      ]
     },
     "execution_count": 6,
     "metadata": {},
     "output_type": "execute_result"
    }
   ],
   "source": [
    "# Select columns according to the list\n",
    "cols = ['gender','age','income','reward','difficulty',\n",
    "        'duration','offer_type','email','mobile','social','web','response']\n",
    "df = df_features.loc[:, cols]\n",
    "df.head()"
   ]
  },
  {
   "cell_type": "markdown",
   "metadata": {},
   "source": [
    "### 5.2 Find the columns that contain missing values"
   ]
  },
  {
   "cell_type": "code",
   "execution_count": 7,
   "metadata": {},
   "outputs": [
    {
     "data": {
      "text/plain": [
       "Index([], dtype='object')"
      ]
     },
     "execution_count": 7,
     "metadata": {},
     "output_type": "execute_result"
    }
   ],
   "source": [
    "# Find the columns that have missing value value (NaN)\n",
    "df.columns[df.isna().mean() > 0]"
   ]
  },
  {
   "cell_type": "markdown",
   "metadata": {},
   "source": [
    "## Explore data distributions (before and After)"
   ]
  },
  {
   "cell_type": "markdown",
   "metadata": {},
   "source": [
    "### Age"
   ]
  },
  {
   "cell_type": "code",
   "execution_count": 8,
   "metadata": {},
   "outputs": [
    {
     "ename": "NameError",
     "evalue": "name 'cleaned_profile' is not defined",
     "output_type": "error",
     "traceback": [
      "\u001b[0;31m---------------------------------------------------------------------------\u001b[0m",
      "\u001b[0;31mNameError\u001b[0m                                 Traceback (most recent call last)",
      "\u001b[0;32m<ipython-input-8-79498606ee49>\u001b[0m in \u001b[0;36m<module>\u001b[0;34m\u001b[0m\n\u001b[1;32m      1\u001b[0m \u001b[0;31m# Before create training dataset\u001b[0m\u001b[0;34m\u001b[0m\u001b[0;34m\u001b[0m\u001b[0;34m\u001b[0m\u001b[0m\n\u001b[0;32m----> 2\u001b[0;31m \u001b[0msns\u001b[0m\u001b[0;34m.\u001b[0m\u001b[0mhistplot\u001b[0m\u001b[0;34m(\u001b[0m\u001b[0mcleaned_profile\u001b[0m\u001b[0;34m[\u001b[0m\u001b[0;34m'age'\u001b[0m\u001b[0;34m]\u001b[0m\u001b[0;34m,\u001b[0m \u001b[0mkde\u001b[0m\u001b[0;34m=\u001b[0m\u001b[0;32mTrue\u001b[0m\u001b[0;34m)\u001b[0m\u001b[0;34m\u001b[0m\u001b[0;34m\u001b[0m\u001b[0m\n\u001b[0m",
      "\u001b[0;31mNameError\u001b[0m: name 'cleaned_profile' is not defined"
     ]
    }
   ],
   "source": [
    "# Before create training dataset\n",
    "sns.histplot(cleaned_profile['age'], kde=True)"
   ]
  },
  {
   "cell_type": "code",
   "execution_count": null,
   "metadata": {},
   "outputs": [],
   "source": [
    "# After created training dataset\n",
    "sns.histplot(df['age'], kde=True)"
   ]
  },
  {
   "cell_type": "markdown",
   "metadata": {},
   "source": [
    "### Income"
   ]
  },
  {
   "cell_type": "code",
   "execution_count": 9,
   "metadata": {},
   "outputs": [
    {
     "ename": "NameError",
     "evalue": "name 'cleaned_profile' is not defined",
     "output_type": "error",
     "traceback": [
      "\u001b[0;31m---------------------------------------------------------------------------\u001b[0m",
      "\u001b[0;31mNameError\u001b[0m                                 Traceback (most recent call last)",
      "\u001b[0;32m<ipython-input-9-40887c5cfa9f>\u001b[0m in \u001b[0;36m<module>\u001b[0;34m\u001b[0m\n\u001b[1;32m      1\u001b[0m \u001b[0;31m# Before create training dataset\u001b[0m\u001b[0;34m\u001b[0m\u001b[0;34m\u001b[0m\u001b[0;34m\u001b[0m\u001b[0m\n\u001b[0;32m----> 2\u001b[0;31m \u001b[0msns\u001b[0m\u001b[0;34m.\u001b[0m\u001b[0mhistplot\u001b[0m\u001b[0;34m(\u001b[0m\u001b[0mcleaned_profile\u001b[0m\u001b[0;34m[\u001b[0m\u001b[0;34m'income'\u001b[0m\u001b[0;34m]\u001b[0m\u001b[0;34m,\u001b[0m \u001b[0mkde\u001b[0m\u001b[0;34m=\u001b[0m\u001b[0;32mTrue\u001b[0m\u001b[0;34m)\u001b[0m\u001b[0;34m\u001b[0m\u001b[0;34m\u001b[0m\u001b[0m\n\u001b[0m",
      "\u001b[0;31mNameError\u001b[0m: name 'cleaned_profile' is not defined"
     ]
    }
   ],
   "source": [
    "# Before create training dataset\n",
    "sns.histplot(cleaned_profile['income'], kde=True)"
   ]
  },
  {
   "cell_type": "code",
   "execution_count": 10,
   "metadata": {
    "scrolled": true
   },
   "outputs": [
    {
     "data": {
      "text/plain": [
       "<AxesSubplot:xlabel='income', ylabel='Count'>"
      ]
     },
     "execution_count": 10,
     "metadata": {},
     "output_type": "execute_result"
    },
    {
     "data": {
      "image/png": "[encoded data removed]",
      "text/plain": [
       "<Figure size 432x288 with 1 Axes>"
      ]
     },
     "metadata": {},
     "output_type": "display_data"
    }
   ],
   "source": [
    "# After created training dataset\n",
    "sns.histplot(df['income'], kde=True)"
   ]
  },
  {
   "cell_type": "markdown",
   "metadata": {},
   "source": [
    "### Gender"
   ]
  },
  {
   "cell_type": "code",
   "execution_count": 11,
   "metadata": {},
   "outputs": [
    {
     "ename": "NameError",
     "evalue": "name 'profile' is not defined",
     "output_type": "error",
     "traceback": [
      "\u001b[0;31m---------------------------------------------------------------------------\u001b[0m",
      "\u001b[0;31mNameError\u001b[0m                                 Traceback (most recent call last)",
      "\u001b[0;32m<ipython-input-11-d78586843777>\u001b[0m in \u001b[0;36m<module>\u001b[0;34m\u001b[0m\n\u001b[1;32m      1\u001b[0m \u001b[0;31m# Before create training dataset\u001b[0m\u001b[0;34m\u001b[0m\u001b[0;34m\u001b[0m\u001b[0;34m\u001b[0m\u001b[0m\n\u001b[0;32m----> 2\u001b[0;31m \u001b[0max\u001b[0m \u001b[0;34m=\u001b[0m \u001b[0msns\u001b[0m\u001b[0;34m.\u001b[0m\u001b[0mcountplot\u001b[0m\u001b[0;34m(\u001b[0m\u001b[0mx\u001b[0m \u001b[0;34m=\u001b[0m \u001b[0;34m'gender'\u001b[0m\u001b[0;34m,\u001b[0m \u001b[0mdata\u001b[0m \u001b[0;34m=\u001b[0m \u001b[0mprofile\u001b[0m\u001b[0;34m,\u001b[0m \u001b[0mpalette\u001b[0m\u001b[0;34m=\u001b[0m\u001b[0;34m\"muted\"\u001b[0m\u001b[0;34m,\u001b[0m \u001b[0morder\u001b[0m \u001b[0;34m=\u001b[0m \u001b[0mprofile\u001b[0m\u001b[0;34m[\u001b[0m\u001b[0;34m'gender'\u001b[0m\u001b[0;34m]\u001b[0m\u001b[0;34m.\u001b[0m\u001b[0mvalue_counts\u001b[0m\u001b[0;34m(\u001b[0m\u001b[0;34m)\u001b[0m\u001b[0;34m.\u001b[0m\u001b[0mindex\u001b[0m\u001b[0;34m)\u001b[0m\u001b[0;34m\u001b[0m\u001b[0;34m\u001b[0m\u001b[0m\n\u001b[0m\u001b[1;32m      3\u001b[0m \u001b[0;34m\u001b[0m\u001b[0m\n\u001b[1;32m      4\u001b[0m \u001b[0;32mfor\u001b[0m \u001b[0mp\u001b[0m \u001b[0;32min\u001b[0m \u001b[0max\u001b[0m\u001b[0;34m.\u001b[0m\u001b[0mpatches\u001b[0m\u001b[0;34m:\u001b[0m\u001b[0;34m\u001b[0m\u001b[0;34m\u001b[0m\u001b[0m\n\u001b[1;32m      5\u001b[0m     \u001b[0mwidth\u001b[0m \u001b[0;34m=\u001b[0m \u001b[0mp\u001b[0m\u001b[0;34m.\u001b[0m\u001b[0mget_width\u001b[0m\u001b[0;34m(\u001b[0m\u001b[0;34m)\u001b[0m\u001b[0;34m\u001b[0m\u001b[0;34m\u001b[0m\u001b[0m\n",
      "\u001b[0;31mNameError\u001b[0m: name 'profile' is not defined"
     ]
    }
   ],
   "source": [
    "# Before create training dataset\n",
    "ax = sns.countplot(x = 'gender', data = profile, palette=\"muted\", order = profile['gender'].value_counts().index)\n",
    "\n",
    "for p in ax.patches:\n",
    "    width = p.get_width()\n",
    "    height = p.get_height()\n",
    "    x, y = p.get_xy() \n",
    "    ax.annotate(str(round(height/len(profile['gender'])*100, 2))+'%', (x + width/2, y + height*1.02), ha='center')"
   ]
  },
  {
   "cell_type": "code",
   "execution_count": null,
   "metadata": {},
   "outputs": [],
   "source": [
    "# After created training dataset\n",
    "ax = sns.countplot(x = 'gender', data = df, palette=\"muted\", order = df['gender'].value_counts().index)\n",
    "\n",
    "for p in ax.patches:\n",
    "    width = p.get_width()\n",
    "    height = p.get_height()\n",
    "    x, y = p.get_xy() \n",
    "    ax.annotate(str(round(height/len(df['gender'])*100, 2))+'%', (x + width/2, y + height*1.02), ha='center')"
   ]
  },
  {
   "cell_type": "markdown",
   "metadata": {},
   "source": [
    "### offer_type or event"
   ]
  },
  {
   "cell_type": "code",
   "execution_count": 12,
   "metadata": {},
   "outputs": [
    {
     "data": {
      "image/png": "[encoded data removed]",
      "text/plain": [
       "<Figure size 432x288 with 1 Axes>"
      ]
     },
     "metadata": {},
     "output_type": "display_data"
    }
   ],
   "source": [
    "ax = sns.countplot(x = 'offer_type', data = df, palette=\"muted\", order = df['offer_type'].value_counts(ascending=True).index)\n",
    "\n",
    "for p in ax.patches:\n",
    "    width = p.get_width()\n",
    "    height = p.get_height()\n",
    "    x, y = p.get_xy() \n",
    "    ax.annotate(str(round(height/len(df['offer_type'])*100, 2))+'%', (x + width/2, y + height*1.02), ha='center') "
   ]
  },
  {
   "cell_type": "markdown",
   "metadata": {},
   "source": [
    "### 5.3 Remove outliers\n",
    "An outlier is a crucial problem that makes our model inaccurate and inefficient. we should handle it before performing any actor that relates to machine learning or modeling."
   ]
  },
  {
   "cell_type": "code",
   "execution_count": 13,
   "metadata": {},
   "outputs": [],
   "source": [
    "# Separate columns to remove outlier and not remove outlier.\n",
    "remove_outlier = df[['age','income']]\n",
    "not_remove_outlier = df.drop(['age','income'],axis=1)"
   ]
  },
  {
   "cell_type": "markdown",
   "metadata": {},
   "source": [
    "### 5.3.1 The statistic z-score\n",
    "- Filter outliner by statistic z score."
   ]
  },
  {
   "cell_type": "code",
   "execution_count": 20,
   "metadata": {},
   "outputs": [],
   "source": [
    "# Remove outliers by statistic z-score method\n",
    "z_anomaly_solved = z_outlier_filter(remove_outlier)"
   ]
  },
  {
   "cell_type": "markdown",
   "metadata": {},
   "source": [
    "### 5.3.2 Isolation Forest\n",
    "- Isolation Forest is an outlier detection technique that identifies anomalies instead of normal observations\n",
    "- The Isolation Forest isolate observations into abnormal vs normal observations by the following step:\n",
    "<br><img src=\"images/Isolation_forest_pic.png\" align=\"left\"/>"
   ]
  },
  {
   "cell_type": "markdown",
   "metadata": {},
   "source": [
    "- At each node in the decision tree, randomly select a feature then selecting a splitting value between maximum and minimum values of the selected feature/column to split the dataset into two.\n",
    "- After that, keep doing the above step until all observations are isolated from each other.\n",
    "- The anomalies are detected by finding the observation that is isolated faster or easier than other observations because the anomalies are normally far from normal observations."
   ]
  },
  {
   "cell_type": "code",
   "execution_count": 21,
   "metadata": {},
   "outputs": [],
   "source": [
    "# Remove outliers by manchine learning method\n",
    "anomaly_solved = ML_outlier_filter(z_anomaly_solved)"
   ]
  },
  {
   "cell_type": "markdown",
   "metadata": {},
   "source": [
    "### Merge data after remove outlier"
   ]
  },
  {
   "cell_type": "code",
   "execution_count": 22,
   "metadata": {
    "scrolled": false
   },
   "outputs": [
    {
     "data": {
      "text/plain": [
       "(38144, 12)"
      ]
     },
     "execution_count": 22,
     "metadata": {},
     "output_type": "execute_result"
    }
   ],
   "source": [
    "# Combine numeric features and catergorical features\n",
    "not_remove_outlier_df = pd.DataFrame(not_remove_outlier,index = anomaly_solved.index)\n",
    "removed_outlier = pd.concat([not_remove_outlier_df, anomaly_solved], axis=1)\n",
    "\n",
    "# Reset index after dropped the rows that contain missing values\n",
    "removed_outlier.reset_index(drop=True, inplace=True)\n",
    "removed_outlier.shape"
   ]
  },
  {
   "cell_type": "code",
   "execution_count": 23,
   "metadata": {},
   "outputs": [
    {
     "data": {
      "text/html": [
       "<div>\n",
       "<style scoped>\n",
       "    .dataframe tbody tr th:only-of-type {\n",
       "        vertical-align: middle;\n",
       "    }\n",
       "\n",
       "    .dataframe tbody tr th {\n",
       "        vertical-align: top;\n",
       "    }\n",
       "\n",
       "    .dataframe thead th {\n",
       "        text-align: right;\n",
       "    }\n",
       "</style>\n",
       "<table border=\"1\" class=\"dataframe\">\n",
       "  <thead>\n",
       "    <tr style=\"text-align: right;\">\n",
       "      <th></th>\n",
       "      <th>gender</th>\n",
       "      <th>reward</th>\n",
       "      <th>difficulty</th>\n",
       "      <th>duration</th>\n",
       "      <th>offer_type</th>\n",
       "      <th>email</th>\n",
       "      <th>mobile</th>\n",
       "      <th>social</th>\n",
       "      <th>web</th>\n",
       "      <th>response</th>\n",
       "      <th>age</th>\n",
       "      <th>income</th>\n",
       "    </tr>\n",
       "  </thead>\n",
       "  <tbody>\n",
       "    <tr>\n",
       "      <th>0</th>\n",
       "      <td>M</td>\n",
       "      <td>2</td>\n",
       "      <td>10</td>\n",
       "      <td>7</td>\n",
       "      <td>discount</td>\n",
       "      <td>1</td>\n",
       "      <td>1</td>\n",
       "      <td>0</td>\n",
       "      <td>1</td>\n",
       "      <td>0.0</td>\n",
       "      <td>68</td>\n",
       "      <td>70000.0</td>\n",
       "    </tr>\n",
       "    <tr>\n",
       "      <th>1</th>\n",
       "      <td>M</td>\n",
       "      <td>0</td>\n",
       "      <td>0</td>\n",
       "      <td>4</td>\n",
       "      <td>informational</td>\n",
       "      <td>1</td>\n",
       "      <td>1</td>\n",
       "      <td>0</td>\n",
       "      <td>1</td>\n",
       "      <td>0.0</td>\n",
       "      <td>68</td>\n",
       "      <td>70000.0</td>\n",
       "    </tr>\n",
       "    <tr>\n",
       "      <th>2</th>\n",
       "      <td>M</td>\n",
       "      <td>5</td>\n",
       "      <td>5</td>\n",
       "      <td>7</td>\n",
       "      <td>bogo</td>\n",
       "      <td>1</td>\n",
       "      <td>1</td>\n",
       "      <td>0</td>\n",
       "      <td>1</td>\n",
       "      <td>1.0</td>\n",
       "      <td>68</td>\n",
       "      <td>70000.0</td>\n",
       "    </tr>\n",
       "    <tr>\n",
       "      <th>3</th>\n",
       "      <td>M</td>\n",
       "      <td>2</td>\n",
       "      <td>10</td>\n",
       "      <td>10</td>\n",
       "      <td>discount</td>\n",
       "      <td>1</td>\n",
       "      <td>1</td>\n",
       "      <td>1</td>\n",
       "      <td>1</td>\n",
       "      <td>1.0</td>\n",
       "      <td>68</td>\n",
       "      <td>70000.0</td>\n",
       "    </tr>\n",
       "    <tr>\n",
       "      <th>4</th>\n",
       "      <td>M</td>\n",
       "      <td>5</td>\n",
       "      <td>5</td>\n",
       "      <td>5</td>\n",
       "      <td>bogo</td>\n",
       "      <td>1</td>\n",
       "      <td>1</td>\n",
       "      <td>1</td>\n",
       "      <td>1</td>\n",
       "      <td>1.0</td>\n",
       "      <td>65</td>\n",
       "      <td>53000.0</td>\n",
       "    </tr>\n",
       "  </tbody>\n",
       "</table>\n",
       "</div>"
      ],
      "text/plain": [
       "  gender  reward  difficulty  duration     offer_type  email  mobile  social  \\\n",
       "0      M       2          10         7       discount      1       1       0   \n",
       "1      M       0           0         4  informational      1       1       0   \n",
       "2      M       5           5         7           bogo      1       1       0   \n",
       "3      M       2          10        10       discount      1       1       1   \n",
       "4      M       5           5         5           bogo      1       1       1   \n",
       "\n",
       "   web  response  age   income  \n",
       "0    1       0.0   68  70000.0  \n",
       "1    1       0.0   68  70000.0  \n",
       "2    1       1.0   68  70000.0  \n",
       "3    1       1.0   68  70000.0  \n",
       "4    1       1.0   65  53000.0  "
      ]
     },
     "execution_count": 23,
     "metadata": {},
     "output_type": "execute_result"
    }
   ],
   "source": [
    "# Finished cleaning dataset\n",
    "removed_outlier.head()"
   ]
  },
  {
   "cell_type": "markdown",
   "metadata": {},
   "source": [
    "### 5.4 Apply One-hot encoding on categorical columns"
   ]
  },
  {
   "cell_type": "code",
   "execution_count": 24,
   "metadata": {},
   "outputs": [],
   "source": [
    "# Drop a target column\n",
    "df_features = removed_outlier.drop('response', axis=1)\n",
    "\n",
    "# Apply One-hot encoding on categorical columns\n",
    "cleaned_df = pd.get_dummies(df_features, columns=['gender','offer_type'])"
   ]
  },
  {
   "cell_type": "code",
   "execution_count": 25,
   "metadata": {},
   "outputs": [
    {
     "data": {
      "text/html": [
       "<div>\n",
       "<style scoped>\n",
       "    .dataframe tbody tr th:only-of-type {\n",
       "        vertical-align: middle;\n",
       "    }\n",
       "\n",
       "    .dataframe tbody tr th {\n",
       "        vertical-align: top;\n",
       "    }\n",
       "\n",
       "    .dataframe thead th {\n",
       "        text-align: right;\n",
       "    }\n",
       "</style>\n",
       "<table border=\"1\" class=\"dataframe\">\n",
       "  <thead>\n",
       "    <tr style=\"text-align: right;\">\n",
       "      <th></th>\n",
       "      <th>reward</th>\n",
       "      <th>difficulty</th>\n",
       "      <th>duration</th>\n",
       "      <th>email</th>\n",
       "      <th>mobile</th>\n",
       "      <th>social</th>\n",
       "      <th>web</th>\n",
       "      <th>age</th>\n",
       "      <th>income</th>\n",
       "      <th>gender_F</th>\n",
       "      <th>gender_M</th>\n",
       "      <th>gender_O</th>\n",
       "      <th>offer_type_bogo</th>\n",
       "      <th>offer_type_discount</th>\n",
       "      <th>offer_type_informational</th>\n",
       "    </tr>\n",
       "  </thead>\n",
       "  <tbody>\n",
       "    <tr>\n",
       "      <th>0</th>\n",
       "      <td>2</td>\n",
       "      <td>10</td>\n",
       "      <td>7</td>\n",
       "      <td>1</td>\n",
       "      <td>1</td>\n",
       "      <td>0</td>\n",
       "      <td>1</td>\n",
       "      <td>68</td>\n",
       "      <td>70000.0</td>\n",
       "      <td>0</td>\n",
       "      <td>1</td>\n",
       "      <td>0</td>\n",
       "      <td>0</td>\n",
       "      <td>1</td>\n",
       "      <td>0</td>\n",
       "    </tr>\n",
       "    <tr>\n",
       "      <th>1</th>\n",
       "      <td>0</td>\n",
       "      <td>0</td>\n",
       "      <td>4</td>\n",
       "      <td>1</td>\n",
       "      <td>1</td>\n",
       "      <td>0</td>\n",
       "      <td>1</td>\n",
       "      <td>68</td>\n",
       "      <td>70000.0</td>\n",
       "      <td>0</td>\n",
       "      <td>1</td>\n",
       "      <td>0</td>\n",
       "      <td>0</td>\n",
       "      <td>0</td>\n",
       "      <td>1</td>\n",
       "    </tr>\n",
       "    <tr>\n",
       "      <th>2</th>\n",
       "      <td>5</td>\n",
       "      <td>5</td>\n",
       "      <td>7</td>\n",
       "      <td>1</td>\n",
       "      <td>1</td>\n",
       "      <td>0</td>\n",
       "      <td>1</td>\n",
       "      <td>68</td>\n",
       "      <td>70000.0</td>\n",
       "      <td>0</td>\n",
       "      <td>1</td>\n",
       "      <td>0</td>\n",
       "      <td>1</td>\n",
       "      <td>0</td>\n",
       "      <td>0</td>\n",
       "    </tr>\n",
       "    <tr>\n",
       "      <th>3</th>\n",
       "      <td>2</td>\n",
       "      <td>10</td>\n",
       "      <td>10</td>\n",
       "      <td>1</td>\n",
       "      <td>1</td>\n",
       "      <td>1</td>\n",
       "      <td>1</td>\n",
       "      <td>68</td>\n",
       "      <td>70000.0</td>\n",
       "      <td>0</td>\n",
       "      <td>1</td>\n",
       "      <td>0</td>\n",
       "      <td>0</td>\n",
       "      <td>1</td>\n",
       "      <td>0</td>\n",
       "    </tr>\n",
       "    <tr>\n",
       "      <th>4</th>\n",
       "      <td>5</td>\n",
       "      <td>5</td>\n",
       "      <td>5</td>\n",
       "      <td>1</td>\n",
       "      <td>1</td>\n",
       "      <td>1</td>\n",
       "      <td>1</td>\n",
       "      <td>65</td>\n",
       "      <td>53000.0</td>\n",
       "      <td>0</td>\n",
       "      <td>1</td>\n",
       "      <td>0</td>\n",
       "      <td>1</td>\n",
       "      <td>0</td>\n",
       "      <td>0</td>\n",
       "    </tr>\n",
       "  </tbody>\n",
       "</table>\n",
       "</div>"
      ],
      "text/plain": [
       "   reward  difficulty  duration  email  mobile  social  web  age   income  \\\n",
       "0       2          10         7      1       1       0    1   68  70000.0   \n",
       "1       0           0         4      1       1       0    1   68  70000.0   \n",
       "2       5           5         7      1       1       0    1   68  70000.0   \n",
       "3       2          10        10      1       1       1    1   68  70000.0   \n",
       "4       5           5         5      1       1       1    1   65  53000.0   \n",
       "\n",
       "   gender_F  gender_M  gender_O  offer_type_bogo  offer_type_discount  \\\n",
       "0         0         1         0                0                    1   \n",
       "1         0         1         0                0                    0   \n",
       "2         0         1         0                1                    0   \n",
       "3         0         1         0                0                    1   \n",
       "4         0         1         0                1                    0   \n",
       "\n",
       "   offer_type_informational  \n",
       "0                         0  \n",
       "1                         1  \n",
       "2                         0  \n",
       "3                         0  \n",
       "4                         0  "
      ]
     },
     "execution_count": 25,
     "metadata": {},
     "output_type": "execute_result"
    }
   ],
   "source": [
    "cleaned_df.head()"
   ]
  },
  {
   "cell_type": "markdown",
   "metadata": {},
   "source": [
    "## Compare dataset before and after removed outliner "
   ]
  },
  {
   "cell_type": "markdown",
   "metadata": {},
   "source": [
    "### Age"
   ]
  },
  {
   "cell_type": "code",
   "execution_count": 26,
   "metadata": {},
   "outputs": [
    {
     "data": {
      "text/plain": [
       "<AxesSubplot:xlabel='age', ylabel='Count'>"
      ]
     },
     "execution_count": 26,
     "metadata": {},
     "output_type": "execute_result"
    },
    {
     "data": {
      "image/png": "[encoded data removed]",
      "text/plain": [
       "<Figure size 432x288 with 1 Axes>"
      ]
     },
     "metadata": {},
     "output_type": "display_data"
    }
   ],
   "source": [
    "sns.histplot(df['age'], kde=True)"
   ]
  },
  {
   "cell_type": "code",
   "execution_count": 27,
   "metadata": {},
   "outputs": [
    {
     "data": {
      "text/plain": [
       "<AxesSubplot:xlabel='age', ylabel='Count'>"
      ]
     },
     "execution_count": 27,
     "metadata": {},
     "output_type": "execute_result"
    },
    {
     "data": {
      "image/png": "[encoded data removed]",
      "text/plain": [
       "<Figure size 432x288 with 1 Axes>"
      ]
     },
     "metadata": {},
     "output_type": "display_data"
    }
   ],
   "source": [
    "sns.histplot(removed_outlier['age'], kde=True)"
   ]
  },
  {
   "cell_type": "markdown",
   "metadata": {},
   "source": [
    "### Income"
   ]
  },
  {
   "cell_type": "code",
   "execution_count": 28,
   "metadata": {},
   "outputs": [
    {
     "data": {
      "text/plain": [
       "<AxesSubplot:xlabel='income', ylabel='Count'>"
      ]
     },
     "execution_count": 28,
     "metadata": {},
     "output_type": "execute_result"
    },
    {
     "data": {
      "image/png": "[encoded data removed]",
      "text/plain": [
       "<Figure size 432x288 with 1 Axes>"
      ]
     },
     "metadata": {},
     "output_type": "display_data"
    }
   ],
   "source": [
    "# Before\n",
    "sns.histplot(df['income'], kde=True)"
   ]
  },
  {
   "cell_type": "code",
   "execution_count": 29,
   "metadata": {},
   "outputs": [
    {
     "data": {
      "text/plain": [
       "<AxesSubplot:xlabel='income', ylabel='Count'>"
      ]
     },
     "execution_count": 29,
     "metadata": {},
     "output_type": "execute_result"
    },
    {
     "data": {
      "image/png": "[encoded data removed]",
      "text/plain": [
       "<Figure size 432x288 with 1 Axes>"
      ]
     },
     "metadata": {},
     "output_type": "display_data"
    }
   ],
   "source": [
    "# After\n",
    "sns.histplot(removed_outlier['income'], kde=True)"
   ]
  },
  {
   "cell_type": "markdown",
   "metadata": {},
   "source": [
    "# Build a Model"
   ]
  },
  {
   "cell_type": "markdown",
   "metadata": {},
   "source": [
    "## 1. Declare X (features) and y (target)"
   ]
  },
  {
   "cell_type": "code",
   "execution_count": 32,
   "metadata": {},
   "outputs": [
    {
     "data": {
      "text/html": [
       "<div>\n",
       "<style scoped>\n",
       "    .dataframe tbody tr th:only-of-type {\n",
       "        vertical-align: middle;\n",
       "    }\n",
       "\n",
       "    .dataframe tbody tr th {\n",
       "        vertical-align: top;\n",
       "    }\n",
       "\n",
       "    .dataframe thead th {\n",
       "        text-align: right;\n",
       "    }\n",
       "</style>\n",
       "<table border=\"1\" class=\"dataframe\">\n",
       "  <thead>\n",
       "    <tr style=\"text-align: right;\">\n",
       "      <th></th>\n",
       "      <th>reward</th>\n",
       "      <th>difficulty</th>\n",
       "      <th>duration</th>\n",
       "      <th>email</th>\n",
       "      <th>mobile</th>\n",
       "      <th>social</th>\n",
       "      <th>web</th>\n",
       "      <th>age</th>\n",
       "      <th>income</th>\n",
       "      <th>gender_F</th>\n",
       "      <th>gender_M</th>\n",
       "      <th>gender_O</th>\n",
       "      <th>offer_type_bogo</th>\n",
       "      <th>offer_type_discount</th>\n",
       "      <th>offer_type_informational</th>\n",
       "    </tr>\n",
       "  </thead>\n",
       "  <tbody>\n",
       "    <tr>\n",
       "      <th>0</th>\n",
       "      <td>2</td>\n",
       "      <td>10</td>\n",
       "      <td>7</td>\n",
       "      <td>1</td>\n",
       "      <td>1</td>\n",
       "      <td>0</td>\n",
       "      <td>1</td>\n",
       "      <td>68</td>\n",
       "      <td>70000.0</td>\n",
       "      <td>0</td>\n",
       "      <td>1</td>\n",
       "      <td>0</td>\n",
       "      <td>0</td>\n",
       "      <td>1</td>\n",
       "      <td>0</td>\n",
       "    </tr>\n",
       "    <tr>\n",
       "      <th>1</th>\n",
       "      <td>0</td>\n",
       "      <td>0</td>\n",
       "      <td>4</td>\n",
       "      <td>1</td>\n",
       "      <td>1</td>\n",
       "      <td>0</td>\n",
       "      <td>1</td>\n",
       "      <td>68</td>\n",
       "      <td>70000.0</td>\n",
       "      <td>0</td>\n",
       "      <td>1</td>\n",
       "      <td>0</td>\n",
       "      <td>0</td>\n",
       "      <td>0</td>\n",
       "      <td>1</td>\n",
       "    </tr>\n",
       "    <tr>\n",
       "      <th>2</th>\n",
       "      <td>5</td>\n",
       "      <td>5</td>\n",
       "      <td>7</td>\n",
       "      <td>1</td>\n",
       "      <td>1</td>\n",
       "      <td>0</td>\n",
       "      <td>1</td>\n",
       "      <td>68</td>\n",
       "      <td>70000.0</td>\n",
       "      <td>0</td>\n",
       "      <td>1</td>\n",
       "      <td>0</td>\n",
       "      <td>1</td>\n",
       "      <td>0</td>\n",
       "      <td>0</td>\n",
       "    </tr>\n",
       "    <tr>\n",
       "      <th>3</th>\n",
       "      <td>2</td>\n",
       "      <td>10</td>\n",
       "      <td>10</td>\n",
       "      <td>1</td>\n",
       "      <td>1</td>\n",
       "      <td>1</td>\n",
       "      <td>1</td>\n",
       "      <td>68</td>\n",
       "      <td>70000.0</td>\n",
       "      <td>0</td>\n",
       "      <td>1</td>\n",
       "      <td>0</td>\n",
       "      <td>0</td>\n",
       "      <td>1</td>\n",
       "      <td>0</td>\n",
       "    </tr>\n",
       "    <tr>\n",
       "      <th>4</th>\n",
       "      <td>5</td>\n",
       "      <td>5</td>\n",
       "      <td>5</td>\n",
       "      <td>1</td>\n",
       "      <td>1</td>\n",
       "      <td>1</td>\n",
       "      <td>1</td>\n",
       "      <td>65</td>\n",
       "      <td>53000.0</td>\n",
       "      <td>0</td>\n",
       "      <td>1</td>\n",
       "      <td>0</td>\n",
       "      <td>1</td>\n",
       "      <td>0</td>\n",
       "      <td>0</td>\n",
       "    </tr>\n",
       "  </tbody>\n",
       "</table>\n",
       "</div>"
      ],
      "text/plain": [
       "   reward  difficulty  duration  email  mobile  social  web  age   income  \\\n",
       "0       2          10         7      1       1       0    1   68  70000.0   \n",
       "1       0           0         4      1       1       0    1   68  70000.0   \n",
       "2       5           5         7      1       1       0    1   68  70000.0   \n",
       "3       2          10        10      1       1       1    1   68  70000.0   \n",
       "4       5           5         5      1       1       1    1   65  53000.0   \n",
       "\n",
       "   gender_F  gender_M  gender_O  offer_type_bogo  offer_type_discount  \\\n",
       "0         0         1         0                0                    1   \n",
       "1         0         1         0                0                    0   \n",
       "2         0         1         0                1                    0   \n",
       "3         0         1         0                0                    1   \n",
       "4         0         1         0                1                    0   \n",
       "\n",
       "   offer_type_informational  \n",
       "0                         0  \n",
       "1                         1  \n",
       "2                         0  \n",
       "3                         0  \n",
       "4                         0  "
      ]
     },
     "execution_count": 32,
     "metadata": {},
     "output_type": "execute_result"
    }
   ],
   "source": [
    "# Declare a target\n",
    "y = removed_outlier['response'].copy().astype(int)\n",
    "\n",
    "# Declare features\n",
    "X = cleaned_df.copy()\n",
    "X.head()"
   ]
  },
  {
   "cell_type": "markdown",
   "metadata": {},
   "source": [
    "## 2. Split the data to training and testing data"
   ]
  },
  {
   "cell_type": "code",
   "execution_count": 35,
   "metadata": {},
   "outputs": [],
   "source": [
    "# Split the data to training and testing data\n",
    "X_train, X_test, y_train, y_test = train_test_split(X, y, random_state=42, stratify=y)"
   ]
  },
  {
   "cell_type": "code",
   "execution_count": 36,
   "metadata": {},
   "outputs": [
    {
     "data": {
      "text/plain": [
       "0.4106194071588367"
      ]
     },
     "execution_count": 36,
     "metadata": {},
     "output_type": "execute_result"
    }
   ],
   "source": [
    "sum(y_train)/len(y_train)"
   ]
  },
  {
   "cell_type": "code",
   "execution_count": 37,
   "metadata": {
    "scrolled": false
   },
   "outputs": [
    {
     "data": {
      "text/html": [
       "<div>\n",
       "<style scoped>\n",
       "    .dataframe tbody tr th:only-of-type {\n",
       "        vertical-align: middle;\n",
       "    }\n",
       "\n",
       "    .dataframe tbody tr th {\n",
       "        vertical-align: top;\n",
       "    }\n",
       "\n",
       "    .dataframe thead th {\n",
       "        text-align: right;\n",
       "    }\n",
       "</style>\n",
       "<table border=\"1\" class=\"dataframe\">\n",
       "  <thead>\n",
       "    <tr style=\"text-align: right;\">\n",
       "      <th></th>\n",
       "      <th>reward</th>\n",
       "      <th>difficulty</th>\n",
       "      <th>duration</th>\n",
       "      <th>email</th>\n",
       "      <th>mobile</th>\n",
       "      <th>social</th>\n",
       "      <th>web</th>\n",
       "      <th>age</th>\n",
       "      <th>income</th>\n",
       "      <th>gender_F</th>\n",
       "      <th>gender_M</th>\n",
       "      <th>gender_O</th>\n",
       "      <th>offer_type_bogo</th>\n",
       "      <th>offer_type_discount</th>\n",
       "      <th>offer_type_informational</th>\n",
       "    </tr>\n",
       "  </thead>\n",
       "  <tbody>\n",
       "    <tr>\n",
       "      <th>26624</th>\n",
       "      <td>5</td>\n",
       "      <td>5</td>\n",
       "      <td>5</td>\n",
       "      <td>1</td>\n",
       "      <td>1</td>\n",
       "      <td>1</td>\n",
       "      <td>1</td>\n",
       "      <td>67</td>\n",
       "      <td>43000.0</td>\n",
       "      <td>0</td>\n",
       "      <td>1</td>\n",
       "      <td>0</td>\n",
       "      <td>1</td>\n",
       "      <td>0</td>\n",
       "      <td>0</td>\n",
       "    </tr>\n",
       "    <tr>\n",
       "      <th>5304</th>\n",
       "      <td>5</td>\n",
       "      <td>5</td>\n",
       "      <td>7</td>\n",
       "      <td>1</td>\n",
       "      <td>1</td>\n",
       "      <td>0</td>\n",
       "      <td>1</td>\n",
       "      <td>44</td>\n",
       "      <td>74000.0</td>\n",
       "      <td>1</td>\n",
       "      <td>0</td>\n",
       "      <td>0</td>\n",
       "      <td>1</td>\n",
       "      <td>0</td>\n",
       "      <td>0</td>\n",
       "    </tr>\n",
       "    <tr>\n",
       "      <th>24815</th>\n",
       "      <td>0</td>\n",
       "      <td>0</td>\n",
       "      <td>3</td>\n",
       "      <td>1</td>\n",
       "      <td>1</td>\n",
       "      <td>1</td>\n",
       "      <td>0</td>\n",
       "      <td>65</td>\n",
       "      <td>70000.0</td>\n",
       "      <td>0</td>\n",
       "      <td>1</td>\n",
       "      <td>0</td>\n",
       "      <td>0</td>\n",
       "      <td>0</td>\n",
       "      <td>1</td>\n",
       "    </tr>\n",
       "    <tr>\n",
       "      <th>24412</th>\n",
       "      <td>5</td>\n",
       "      <td>5</td>\n",
       "      <td>5</td>\n",
       "      <td>1</td>\n",
       "      <td>1</td>\n",
       "      <td>1</td>\n",
       "      <td>1</td>\n",
       "      <td>59</td>\n",
       "      <td>55000.0</td>\n",
       "      <td>1</td>\n",
       "      <td>0</td>\n",
       "      <td>0</td>\n",
       "      <td>1</td>\n",
       "      <td>0</td>\n",
       "      <td>0</td>\n",
       "    </tr>\n",
       "    <tr>\n",
       "      <th>290</th>\n",
       "      <td>10</td>\n",
       "      <td>10</td>\n",
       "      <td>7</td>\n",
       "      <td>1</td>\n",
       "      <td>1</td>\n",
       "      <td>1</td>\n",
       "      <td>0</td>\n",
       "      <td>55</td>\n",
       "      <td>94000.0</td>\n",
       "      <td>1</td>\n",
       "      <td>0</td>\n",
       "      <td>0</td>\n",
       "      <td>1</td>\n",
       "      <td>0</td>\n",
       "      <td>0</td>\n",
       "    </tr>\n",
       "  </tbody>\n",
       "</table>\n",
       "</div>"
      ],
      "text/plain": [
       "       reward  difficulty  duration  email  mobile  social  web  age   income  \\\n",
       "26624       5           5         5      1       1       1    1   67  43000.0   \n",
       "5304        5           5         7      1       1       0    1   44  74000.0   \n",
       "24815       0           0         3      1       1       1    0   65  70000.0   \n",
       "24412       5           5         5      1       1       1    1   59  55000.0   \n",
       "290        10          10         7      1       1       1    0   55  94000.0   \n",
       "\n",
       "       gender_F  gender_M  gender_O  offer_type_bogo  offer_type_discount  \\\n",
       "26624         0         1         0                1                    0   \n",
       "5304          1         0         0                1                    0   \n",
       "24815         0         1         0                0                    0   \n",
       "24412         1         0         0                1                    0   \n",
       "290           1         0         0                1                    0   \n",
       "\n",
       "       offer_type_informational  \n",
       "26624                         0  \n",
       "5304                          0  \n",
       "24815                         1  \n",
       "24412                         0  \n",
       "290                           0  "
      ]
     },
     "execution_count": 37,
     "metadata": {},
     "output_type": "execute_result"
    }
   ],
   "source": [
    "X_train.head()"
   ]
  },
  {
   "cell_type": "markdown",
   "metadata": {},
   "source": [
    "## 3 Build and train XGBoost Classifier model for predict the response"
   ]
  },
  {
   "cell_type": "markdown",
   "metadata": {},
   "source": [
    "### 3.1 The model without refinement"
   ]
  },
  {
   "cell_type": "code",
   "execution_count": 41,
   "metadata": {},
   "outputs": [
    {
     "name": "stdout",
     "output_type": "stream",
     "text": [
      "[0]\tvalidation_0-auc:0.79344\n",
      "Will train until validation_0-auc hasn't improved in 10 rounds.\n",
      "[1]\tvalidation_0-auc:0.79482\n",
      "[2]\tvalidation_0-auc:0.79596\n",
      "[3]\tvalidation_0-auc:0.79655\n",
      "[4]\tvalidation_0-auc:0.79767\n",
      "[5]\tvalidation_0-auc:0.79792\n",
      "[6]\tvalidation_0-auc:0.79825\n",
      "[7]\tvalidation_0-auc:0.79866\n",
      "[8]\tvalidation_0-auc:0.79862\n",
      "[9]\tvalidation_0-auc:0.79878\n",
      "[10]\tvalidation_0-auc:0.79906\n",
      "[11]\tvalidation_0-auc:0.79906\n",
      "[12]\tvalidation_0-auc:0.79924\n",
      "[13]\tvalidation_0-auc:0.79930\n",
      "[14]\tvalidation_0-auc:0.79919\n",
      "[15]\tvalidation_0-auc:0.79912\n",
      "[16]\tvalidation_0-auc:0.79898\n",
      "[17]\tvalidation_0-auc:0.79936\n",
      "[18]\tvalidation_0-auc:0.79946\n",
      "[19]\tvalidation_0-auc:0.79937\n",
      "[20]\tvalidation_0-auc:0.79970\n",
      "[21]\tvalidation_0-auc:0.79968\n",
      "[22]\tvalidation_0-auc:0.79970\n",
      "[23]\tvalidation_0-auc:0.79988\n",
      "[24]\tvalidation_0-auc:0.80002\n",
      "[25]\tvalidation_0-auc:0.80003\n",
      "[26]\tvalidation_0-auc:0.80024\n",
      "[27]\tvalidation_0-auc:0.80004\n",
      "[28]\tvalidation_0-auc:0.80007\n",
      "[29]\tvalidation_0-auc:0.80017\n",
      "[30]\tvalidation_0-auc:0.80053\n",
      "[31]\tvalidation_0-auc:0.80080\n",
      "[32]\tvalidation_0-auc:0.80059\n",
      "[33]\tvalidation_0-auc:0.80086\n",
      "[34]\tvalidation_0-auc:0.80141\n",
      "[35]\tvalidation_0-auc:0.80169\n",
      "[36]\tvalidation_0-auc:0.80187\n",
      "[37]\tvalidation_0-auc:0.80271\n",
      "[38]\tvalidation_0-auc:0.80275\n",
      "[39]\tvalidation_0-auc:0.80317\n",
      "[40]\tvalidation_0-auc:0.80308\n",
      "[41]\tvalidation_0-auc:0.80307\n",
      "[42]\tvalidation_0-auc:0.80316\n",
      "[43]\tvalidation_0-auc:0.80331\n",
      "[44]\tvalidation_0-auc:0.80338\n",
      "[45]\tvalidation_0-auc:0.80342\n",
      "[46]\tvalidation_0-auc:0.80352\n",
      "[47]\tvalidation_0-auc:0.80335\n",
      "[48]\tvalidation_0-auc:0.80335\n",
      "[49]\tvalidation_0-auc:0.80331\n",
      "[50]\tvalidation_0-auc:0.80327\n",
      "[51]\tvalidation_0-auc:0.80344\n",
      "[52]\tvalidation_0-auc:0.80381\n",
      "[53]\tvalidation_0-auc:0.80371\n",
      "[54]\tvalidation_0-auc:0.80396\n",
      "[55]\tvalidation_0-auc:0.80411\n",
      "[56]\tvalidation_0-auc:0.80407\n",
      "[57]\tvalidation_0-auc:0.80430\n",
      "[58]\tvalidation_0-auc:0.80439\n",
      "[59]\tvalidation_0-auc:0.80418\n",
      "[60]\tvalidation_0-auc:0.80414\n",
      "[61]\tvalidation_0-auc:0.80420\n",
      "[62]\tvalidation_0-auc:0.80411\n",
      "[63]\tvalidation_0-auc:0.80463\n",
      "[64]\tvalidation_0-auc:0.80485\n",
      "[65]\tvalidation_0-auc:0.80501\n",
      "[66]\tvalidation_0-auc:0.80505\n",
      "[67]\tvalidation_0-auc:0.80505\n",
      "[68]\tvalidation_0-auc:0.80505\n",
      "[69]\tvalidation_0-auc:0.80517\n",
      "[70]\tvalidation_0-auc:0.80519\n",
      "[71]\tvalidation_0-auc:0.80551\n",
      "[72]\tvalidation_0-auc:0.80564\n",
      "[73]\tvalidation_0-auc:0.80574\n",
      "[74]\tvalidation_0-auc:0.80577\n",
      "[75]\tvalidation_0-auc:0.80561\n",
      "[76]\tvalidation_0-auc:0.80557\n",
      "[77]\tvalidation_0-auc:0.80547\n",
      "[78]\tvalidation_0-auc:0.80567\n",
      "[79]\tvalidation_0-auc:0.80570\n",
      "[80]\tvalidation_0-auc:0.80587\n",
      "[81]\tvalidation_0-auc:0.80559\n",
      "[82]\tvalidation_0-auc:0.80574\n",
      "[83]\tvalidation_0-auc:0.80575\n",
      "[84]\tvalidation_0-auc:0.80567\n",
      "[85]\tvalidation_0-auc:0.80550\n",
      "[86]\tvalidation_0-auc:0.80531\n",
      "[87]\tvalidation_0-auc:0.80536\n",
      "[88]\tvalidation_0-auc:0.80545\n",
      "[89]\tvalidation_0-auc:0.80508\n",
      "[90]\tvalidation_0-auc:0.80506\n",
      "Stopping. Best iteration:\n",
      "[80]\tvalidation_0-auc:0.80587\n",
      "\n"
     ]
    },
    {
     "data": {
      "text/plain": [
       "XGBClassifier(base_score=0.5, booster='gbtree', colsample_bylevel=1,\n",
       "              colsample_bynode=1, colsample_bytree=1, eval_metric='auc',\n",
       "              gamma=0, gpu_id=-1, importance_type='gain',\n",
       "              interaction_constraints='', learning_rate=0.300000012,\n",
       "              max_delta_step=0, max_depth=6, min_child_weight=1, missing=nan,\n",
       "              monotone_constraints='()', n_estimators=100, n_jobs=0,\n",
       "              num_parallel_tree=1, random_state=42, reg_alpha=0, reg_lambda=1,\n",
       "              scale_pos_weight=1, seed=42, subsample=1, tree_method='exact',\n",
       "              validate_parameters=1, verbosity=None)"
      ]
     },
     "execution_count": 41,
     "metadata": {},
     "output_type": "execute_result"
    }
   ],
   "source": [
    "clf = xgb.XGBClassifier(objective='binary:logistic', seed=42, eval_metric='auc')\n",
    "clf.fit(X_train,\n",
    "        y_train,\n",
    "        verbose=True,\n",
    "        early_stopping_rounds=10,\n",
    "        eval_metric='auc',\n",
    "        eval_set=[(X_test, y_test)])"
   ]
  },
  {
   "cell_type": "markdown",
   "metadata": {},
   "source": [
    "## Evaluation the initial model"
   ]
  },
  {
   "cell_type": "code",
   "execution_count": 77,
   "metadata": {},
   "outputs": [
    {
     "data": {
      "image/png": "[encoded data removed]",
      "text/plain": [
       "<Figure size 432x288 with 2 Axes>"
      ]
     },
     "metadata": {},
     "output_type": "display_data"
    }
   ],
   "source": [
    "# Plot confusion matrix \n",
    "plot_confusion_matrix(clf,\n",
    "                      X_test,\n",
    "                      y_test,\n",
    "                      cmap = 'Blues',\n",
    "                      values_format = 'd',\n",
    "                      display_labels = ['Do not Response','Response'])\n",
    "# Hide background grid\n",
    "plt.grid(b=None)"
   ]
  },
  {
   "cell_type": "code",
   "execution_count": 57,
   "metadata": {},
   "outputs": [
    {
     "data": {
      "text/plain": [
       "74.7864768683274"
      ]
     },
     "execution_count": 57,
     "metadata": {},
     "output_type": "execute_result"
    }
   ],
   "source": [
    "(4203/(1417+4203))*100"
   ]
  },
  {
   "cell_type": "code",
   "execution_count": 58,
   "metadata": {},
   "outputs": [
    {
     "data": {
      "text/plain": [
       "67.31857951621204"
      ]
     },
     "execution_count": 58,
     "metadata": {},
     "output_type": "execute_result"
    }
   ],
   "source": [
    "(2616/(1270+2616))*100"
   ]
  },
  {
   "cell_type": "markdown",
   "metadata": {},
   "source": [
    "### 3.2 the model with refining "
   ]
  },
  {
   "cell_type": "code",
   "execution_count": 47,
   "metadata": {
    "scrolled": false
   },
   "outputs": [
    {
     "name": "stdout",
     "output_type": "stream",
     "text": [
      "Fitting 5 folds for each of 32 candidates, totalling 160 fits\n"
     ]
    },
    {
     "name": "stderr",
     "output_type": "stream",
     "text": [
      "[Parallel(n_jobs=-1)]: Using backend LokyBackend with 12 concurrent workers.\n",
      "[Parallel(n_jobs=-1)]: Done  17 tasks      | elapsed:   11.3s\n"
     ]
    },
    {
     "name": "stdout",
     "output_type": "stream",
     "text": [
      "[0]\tvalidation_0-auc:0.79083\n",
      "Will train until validation_0-auc hasn't improved in 10 rounds.\n",
      "[1]\tvalidation_0-auc:0.79408\n"
     ]
    },
    {
     "name": "stderr",
     "output_type": "stream",
     "text": [
      "[Parallel(n_jobs=-1)]: Done 160 out of 160 | elapsed:  2.0min finished\n"
     ]
    },
    {
     "name": "stdout",
     "output_type": "stream",
     "text": [
      "[2]\tvalidation_0-auc:0.79637\n",
      "[3]\tvalidation_0-auc:0.79783\n",
      "[4]\tvalidation_0-auc:0.79935\n",
      "[5]\tvalidation_0-auc:0.80066\n",
      "[6]\tvalidation_0-auc:0.80182\n",
      "[7]\tvalidation_0-auc:0.80257\n",
      "[8]\tvalidation_0-auc:0.80322\n",
      "[9]\tvalidation_0-auc:0.80390\n",
      "[10]\tvalidation_0-auc:0.80466\n",
      "[11]\tvalidation_0-auc:0.80525\n",
      "[12]\tvalidation_0-auc:0.80649\n",
      "[13]\tvalidation_0-auc:0.80720\n",
      "[14]\tvalidation_0-auc:0.80726\n",
      "[15]\tvalidation_0-auc:0.80806\n",
      "[16]\tvalidation_0-auc:0.80884\n",
      "[17]\tvalidation_0-auc:0.80917\n",
      "[18]\tvalidation_0-auc:0.80943\n",
      "[19]\tvalidation_0-auc:0.81024\n",
      "[20]\tvalidation_0-auc:0.81056\n",
      "[21]\tvalidation_0-auc:0.81084\n",
      "[22]\tvalidation_0-auc:0.81114\n",
      "[23]\tvalidation_0-auc:0.81166\n",
      "[24]\tvalidation_0-auc:0.81208\n",
      "[25]\tvalidation_0-auc:0.81211\n",
      "[26]\tvalidation_0-auc:0.81205\n",
      "[27]\tvalidation_0-auc:0.81240\n",
      "[28]\tvalidation_0-auc:0.81263\n",
      "[29]\tvalidation_0-auc:0.81283\n",
      "[30]\tvalidation_0-auc:0.81278\n",
      "[31]\tvalidation_0-auc:0.81278\n",
      "[32]\tvalidation_0-auc:0.81259\n",
      "[33]\tvalidation_0-auc:0.81277\n",
      "[34]\tvalidation_0-auc:0.81290\n",
      "[35]\tvalidation_0-auc:0.81331\n",
      "[36]\tvalidation_0-auc:0.81388\n",
      "[37]\tvalidation_0-auc:0.81400\n",
      "[38]\tvalidation_0-auc:0.81405\n",
      "[39]\tvalidation_0-auc:0.81404\n",
      "[40]\tvalidation_0-auc:0.81419\n",
      "[41]\tvalidation_0-auc:0.81433\n",
      "[42]\tvalidation_0-auc:0.81450\n",
      "[43]\tvalidation_0-auc:0.81460\n",
      "[44]\tvalidation_0-auc:0.81467\n",
      "[45]\tvalidation_0-auc:0.81508\n",
      "[46]\tvalidation_0-auc:0.81502\n",
      "[47]\tvalidation_0-auc:0.81517\n",
      "[48]\tvalidation_0-auc:0.81507\n",
      "[49]\tvalidation_0-auc:0.81530\n",
      "[50]\tvalidation_0-auc:0.81525\n",
      "[51]\tvalidation_0-auc:0.81555\n",
      "[52]\tvalidation_0-auc:0.81562\n",
      "[53]\tvalidation_0-auc:0.81577\n",
      "[54]\tvalidation_0-auc:0.81577\n",
      "[55]\tvalidation_0-auc:0.81593\n",
      "[56]\tvalidation_0-auc:0.81603\n",
      "[57]\tvalidation_0-auc:0.81606\n",
      "[58]\tvalidation_0-auc:0.81610\n",
      "[59]\tvalidation_0-auc:0.81579\n",
      "[60]\tvalidation_0-auc:0.81602\n",
      "[61]\tvalidation_0-auc:0.81643\n",
      "[62]\tvalidation_0-auc:0.81664\n",
      "[63]\tvalidation_0-auc:0.81657\n",
      "[64]\tvalidation_0-auc:0.81667\n",
      "[65]\tvalidation_0-auc:0.81659\n",
      "[66]\tvalidation_0-auc:0.81668\n",
      "[67]\tvalidation_0-auc:0.81651\n",
      "[68]\tvalidation_0-auc:0.81674\n",
      "[69]\tvalidation_0-auc:0.81718\n",
      "[70]\tvalidation_0-auc:0.81742\n",
      "[71]\tvalidation_0-auc:0.81743\n",
      "[72]\tvalidation_0-auc:0.81807\n",
      "[73]\tvalidation_0-auc:0.81828\n",
      "[74]\tvalidation_0-auc:0.81852\n",
      "[75]\tvalidation_0-auc:0.81853\n",
      "[76]\tvalidation_0-auc:0.81851\n",
      "[77]\tvalidation_0-auc:0.81848\n",
      "[78]\tvalidation_0-auc:0.81839\n",
      "[79]\tvalidation_0-auc:0.81851\n",
      "[80]\tvalidation_0-auc:0.81863\n",
      "[81]\tvalidation_0-auc:0.81910\n",
      "[82]\tvalidation_0-auc:0.81903\n",
      "[83]\tvalidation_0-auc:0.81912\n",
      "[84]\tvalidation_0-auc:0.81912\n",
      "[85]\tvalidation_0-auc:0.81919\n",
      "[86]\tvalidation_0-auc:0.81936\n",
      "[87]\tvalidation_0-auc:0.81968\n",
      "[88]\tvalidation_0-auc:0.81969\n",
      "[89]\tvalidation_0-auc:0.81944\n",
      "[90]\tvalidation_0-auc:0.81974\n",
      "[91]\tvalidation_0-auc:0.81986\n",
      "[92]\tvalidation_0-auc:0.82008\n",
      "[93]\tvalidation_0-auc:0.82022\n",
      "[94]\tvalidation_0-auc:0.82019\n",
      "[95]\tvalidation_0-auc:0.82036\n",
      "[96]\tvalidation_0-auc:0.82045\n",
      "[97]\tvalidation_0-auc:0.82068\n",
      "[98]\tvalidation_0-auc:0.82067\n",
      "[99]\tvalidation_0-auc:0.82066\n",
      "{'gamma': 0, 'learning_rate': 0.2, 'max_depth': 11, 'min_child_weight': 0, 'reg_lambda': 0.5}\n"
     ]
    }
   ],
   "source": [
    "# GridSearch to find optimal hyperparameters\n",
    "# ROUND 1\n",
    "param_grid = {\n",
    "    'max_depth': [10, 11], # Tree depth\n",
    "    'learning_rate': [0.2, 0.3],\n",
    "    'gamma': [0, 1],\n",
    "    'reg_lambda': [0.5, 1],\n",
    "    'min_child_weight':[0, 1]\n",
    "}\n",
    "\n",
    "# Optimizie xgboosthyperparameters\n",
    "optimal_params = GridSearchCV(\n",
    "    estimator = xgb.XGBClassifier(objective='binary:logistic', seed=42),\n",
    "    param_grid = param_grid,\n",
    "    scoring = 'roc_auc',\n",
    "    verbose=2,\n",
    "    n_jobs = -1)\n",
    "\n",
    "optimal_params.fit(X_train,\n",
    "                y_train,\n",
    "                verbose=True, # Do not print the process\n",
    "                early_stopping_rounds=10,\n",
    "                eval_metric='auc',\n",
    "                eval_set=[(X_test, y_test)])\n",
    "print(optimal_params.best_params_)"
   ]
  },
  {
   "cell_type": "markdown",
   "metadata": {},
   "source": [
    "## Evaluate the optimized model"
   ]
  },
  {
   "cell_type": "code",
   "execution_count": 76,
   "metadata": {},
   "outputs": [
    {
     "data": {
      "image/png": "[encoded data removed]",
      "text/plain": [
       "<Figure size 432x288 with 2 Axes>"
      ]
     },
     "metadata": {},
     "output_type": "display_data"
    }
   ],
   "source": [
    "# Plot confusion matrix \n",
    "plot_confusion_matrix(optimal_params,\n",
    "                      X_test,\n",
    "                      y_test,\n",
    "                      cmap = 'Blues',\n",
    "                      values_format = 'd',\n",
    "                      display_labels = ['Do not Response','Response'])\n",
    "# Hide background grid\n",
    "plt.grid(b=None)"
   ]
  },
  {
   "cell_type": "code",
   "execution_count": 79,
   "metadata": {},
   "outputs": [
    {
     "data": {
      "text/plain": [
       "76.33451957295374"
      ]
     },
     "execution_count": 79,
     "metadata": {},
     "output_type": "execute_result"
    }
   ],
   "source": [
    "(4290/(1330+4290))*100"
   ]
  },
  {
   "cell_type": "code",
   "execution_count": 78,
   "metadata": {},
   "outputs": [
    {
     "data": {
      "text/plain": [
       "70.07150153217569"
      ]
     },
     "execution_count": 78,
     "metadata": {},
     "output_type": "execute_result"
    }
   ],
   "source": [
    "(2744/(1172+2744))*100"
   ]
  },
  {
   "cell_type": "markdown",
   "metadata": {},
   "source": [
    "# Justification"
   ]
  },
  {
   "cell_type": "markdown",
   "metadata": {},
   "source": [
    "## 1. The ratio of target\n",
    "The target ratio should be reasonable to prevent an overfitting problem"
   ]
  },
  {
   "cell_type": "code",
   "execution_count": 133,
   "metadata": {},
   "outputs": [
    {
     "data": {
      "image/png": "[encoded data removed]",
      "text/plain": [
       "<Figure size 432x288 with 1 Axes>"
      ]
     },
     "metadata": {},
     "output_type": "display_data"
    }
   ],
   "source": [
    "ax = sns.countplot(x = 'response', data = removed_outlier, palette=\"muted\", order = removed_outlier['response'].value_counts(ascending=True).index)\n",
    "\n",
    "for p in ax.patches:\n",
    "    width = p.get_width()\n",
    "    height = p.get_height()\n",
    "    x, y = p.get_xy() \n",
    "    ax.annotate(str(round(height/len(removed_outlier['response'])*100, 2))+'%', (x + width/2, y + height*1.02), ha='center') "
   ]
  },
  {
   "cell_type": "code",
   "execution_count": 123,
   "metadata": {},
   "outputs": [
    {
     "data": {
      "text/plain": [
       "0    22481\n",
       "1    15663\n",
       "Name: response, dtype: int64"
      ]
     },
     "execution_count": 123,
     "metadata": {},
     "output_type": "execute_result"
    }
   ],
   "source": [
    "y.value_counts()"
   ]
  },
  {
   "cell_type": "markdown",
   "metadata": {},
   "source": [
    "## 2. The difference between the AUC value in the training and the validation data set\n",
    "To prevent an overfitting problem."
   ]
  },
  {
   "cell_type": "markdown",
   "metadata": {},
   "source": [
    "## Training dataset"
   ]
  },
  {
   "cell_type": "code",
   "execution_count": 134,
   "metadata": {},
   "outputs": [
    {
     "data": {
      "text/plain": [
       "0.8796895711118597"
      ]
     },
     "execution_count": 134,
     "metadata": {},
     "output_type": "execute_result"
    }
   ],
   "source": [
    "# Testing dataset\n",
    "training_pred = optimal_params.predict(X_train)\n",
    "\n",
    "# ROC\n",
    "training_fpr, training_tpr, training_thresholds = roc_curve(y_train, training_pred)\n",
    "\n",
    "# AUC\n",
    "roc_auc_score(y_train, training_pred)"
   ]
  },
  {
   "cell_type": "markdown",
   "metadata": {},
   "source": [
    "## Testing dataset"
   ]
  },
  {
   "cell_type": "code",
   "execution_count": 135,
   "metadata": {},
   "outputs": [
    {
     "data": {
      "text/plain": [
       "0.7320301055256472"
      ]
     },
     "execution_count": 135,
     "metadata": {},
     "output_type": "execute_result"
    }
   ],
   "source": [
    "# Training dataset\n",
    "testing_pred = optimal_params.predict(X_test)\n",
    "\n",
    "# ROC\n",
    "testing_fpr, testing_tpr, testing_thresholds = roc_curve(y_test, testing_pred)\n",
    "\n",
    "# AUC\n",
    "roc_auc_score(y_test, testing_pred)"
   ]
  },
  {
   "cell_type": "markdown",
   "metadata": {},
   "source": [
    "## Comparison of ROC for training and testing dataset"
   ]
  },
  {
   "cell_type": "code",
   "execution_count": 136,
   "metadata": {},
   "outputs": [
    {
     "data": {
      "text/plain": [
       "<matplotlib.legend.Legend at 0x7ffaf75d4130>"
      ]
     },
     "execution_count": 136,
     "metadata": {},
     "output_type": "execute_result"
    },
    {
     "data": {
      "image/png": "[encoded data removed]",
      "text/plain": [
       "<Figure size 432x288 with 1 Axes>"
      ]
     },
     "metadata": {},
     "output_type": "display_data"
    }
   ],
   "source": [
    "plt.xlabel(\"True positive rate (tpr)\")\n",
    "plt.ylabel(\"False positive rate (fpr)\")\n",
    "\n",
    "plt.plot(training_fpr, training_tpr)\n",
    "plt.plot(testing_fpr, testing_tpr)\n",
    "\n",
    "plt.gca().legend(('training','testing'))"
   ]
  },
  {
   "cell_type": "code",
   "execution_count": null,
   "metadata": {},
   "outputs": [],
   "source": []
  }
 ],
 "metadata": {
  "kernelspec": {
   "display_name": "Python 3",
   "language": "python",
   "name": "python3"
  },
  "language_info": {
   "codemirror_mode": {
    "name": "ipython",
    "version": 3
   },
   "file_extension": ".py",
   "mimetype": "text/x-python",
   "name": "python",
   "nbconvert_exporter": "python",
   "pygments_lexer": "ipython3",
   "version": "3.8.5"
  }
 },
 "nbformat": 4,
 "nbformat_minor": 2
}
